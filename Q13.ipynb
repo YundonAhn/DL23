{
  "nbformat": 4,
  "nbformat_minor": 0,
  "metadata": {
    "colab": {
      "provenance": [],
      "include_colab_link": true
    },
    "kernelspec": {
      "name": "python3",
      "display_name": "Python 3"
    },
    "language_info": {
      "name": "python"
    }
  },
  "cells": [
    {
      "cell_type": "markdown",
      "metadata": {
        "id": "view-in-github",
        "colab_type": "text"
      },
      "source": [
        "<a href=\"https://colab.research.google.com/github/YundonAhn/DL23/blob/main/Q13.ipynb\" target=\"_parent\"><img src=\"https://colab.research.google.com/assets/colab-badge.svg\" alt=\"Open In Colab\"/></a>"
      ]
    },
    {
      "cell_type": "markdown",
      "source": [
        "# Q13. Create a list called numbers. Using the random.randint() function, add five random integers to it. Then, print the list.\n",
        "\n",
        "**Note**: You should not write the random number on your own. The code should take the random number and add it to your list."
      ],
      "metadata": {
        "id": "PURsYXF2KuAO"
      }
    },
    {
      "cell_type": "code",
      "source": [
        "numbers=[1,2,3,4,5]\n",
        "import random\n",
        "a=random.randint(1,5)\n",
        "print(a)"
      ],
      "metadata": {
        "id": "0v7xClwtFJJ-",
        "outputId": "8d0872c0-db0e-4dd6-ab0b-5c55f6ff4714",
        "colab": {
          "base_uri": "https://localhost:8080/"
        }
      },
      "execution_count": 6,
      "outputs": [
        {
          "output_type": "stream",
          "name": "stdout",
          "text": [
            "4\n"
          ]
        }
      ]
    }
  ]
}