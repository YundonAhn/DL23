{
  "nbformat": 4,
  "nbformat_minor": 0,
  "metadata": {
    "colab": {
      "provenance": [],
      "include_colab_link": true
    },
    "kernelspec": {
      "name": "python3",
      "display_name": "Python 3"
    },
    "language_info": {
      "name": "python"
    }
  },
  "cells": [
    {
      "cell_type": "markdown",
      "metadata": {
        "id": "view-in-github",
        "colab_type": "text"
      },
      "source": [
        "<a href=\"https://colab.research.google.com/github/YundonAhn/DL23/blob/main/DL/DLW02d.ipynb\" target=\"_parent\"><img src=\"https://colab.research.google.com/assets/colab-badge.svg\" alt=\"Open In Colab\"/></a>"
      ]
    },
    {
      "cell_type": "markdown",
      "source": [
        "---\n",
        "# 📗 Topic [2]: Coding basic #2\n",
        "---\n",
        "Keywords:\n",
        "\n",
        "+ variables\n",
        "+ **operators**\n",
        "+ **data types: list and dictionary**"
      ],
      "metadata": {
        "id": "k4A5_MYHpcNQ"
      }
    },
    {
      "cell_type": "markdown",
      "source": [
        "Your github IDs [here](https://docs.google.com/spreadsheets/d/17SX51lCqOdtvC7cAGoX5tP9fKwVdGY5sRzMg2pXh9uk/edit#gid=0) - revised 0327"
      ],
      "metadata": {
        "id": "mUVgzk50XMkt"
      }
    },
    {
      "cell_type": "markdown",
      "source": [
        "## [1] Variables"
      ],
      "metadata": {
        "id": "93gQaEo1RX63"
      }
    },
    {
      "cell_type": "markdown",
      "source": [
        "+ **A variable** is a named storage location that holds a value.\n",
        "+ Variables can be used **to store values** such as numbers, strings, lists, or other data types. \n",
        "+ The value of a variable can change throughout the execution of a program. \n",
        "+ To declare a variable in Python, you need to assign a value to it using the **equal (=) sign.**"
      ],
      "metadata": {
        "id": "jJT4hD1teuJr"
      }
    },
    {
      "cell_type": "code",
      "source": [
        "x = 10\n",
        "y = \"Hello, class!\"\n",
        "z = [1, 2, 3]"
      ],
      "metadata": {
        "id": "Xes87bY2X45M"
      },
      "execution_count": null,
      "outputs": []
    },
    {
      "cell_type": "markdown",
      "source": [
        "↗️ In the above example, 'x' is assigned the value of 10, 'y' is assigned the value of \"Hello, World!\", and 'z' is assigned the value of [1, 2, 3]."
      ],
      "metadata": {
        "id": "ulw6QsP5ZiKp"
      }
    },
    {
      "cell_type": "code",
      "source": [
        "# We can assign a link or a function\n",
        "import pandas as pd\n",
        "url = \"https://github.com/MK316/Spring2023/raw/main/data/att_sample.csv\"\n",
        "data = pd.read_csv(url)\n",
        "data"
      ],
      "metadata": {
        "id": "_7bvpJt2aQmg"
      },
      "execution_count": null,
      "outputs": []
    },
    {
      "cell_type": "markdown",
      "source": [
        "## Commenting '#'\n",
        "\n",
        "- In Python, the # symbol is used to indicate comment lines. A comment is a line of text in a code that is ignored by the Python interpreter and is used to provide explanations or notes for the reader of the code.\n",
        "\n",
        "## Uncommenting shortcut: \n",
        "* \"Ctrl + /\" (Place the cursor on the code line and press the Control + / key.)"
      ],
      "metadata": {
        "id": "xZv9R8I8ZWvt"
      }
    },
    {
      "cell_type": "code",
      "source": [
        "# This is a comment in Python\n",
        "x = 10 # this is also a comment"
      ],
      "metadata": {
        "id": "7UJmbmmTaFx9"
      },
      "execution_count": null,
      "outputs": []
    },
    {
      "cell_type": "code",
      "source": [
        "x1 = x * 10\n",
        "x2 = x + 5\n",
        "\n",
        "#print(x1) # Print the value of x1\n",
        "# print(x1, x2) # Print the values of x1 and x2"
      ],
      "metadata": {
        "id": "Ivc72tB0X_TS"
      },
      "execution_count": null,
      "outputs": []
    },
    {
      "cell_type": "code",
      "source": [
        "print(y)\n",
        "y1 = y + \"Welcome to the class.\"\n",
        "z1 = z + [3,2,1]\n",
        " \n",
        "print(y1, z1)"
      ],
      "metadata": {
        "id": "cxePqv-52RU0",
        "outputId": "81912ad4-9579-4363-95d6-fae908870a13",
        "colab": {
          "base_uri": "https://localhost:8080/"
        }
      },
      "execution_count": null,
      "outputs": [
        {
          "output_type": "stream",
          "name": "stdout",
          "text": [
            "Hello, class!\n",
            "Hello, class!Welcome to the class. [1, 2, 3, 3, 2, 1]\n"
          ]
        }
      ]
    },
    {
      "cell_type": "markdown",
      "source": [
        "Input types:\n",
        "\n",
        "* integer: e.g., -3, 1, 0, 234, etc.\n",
        "* float: e.g., -3.0, 1.2, 0, 3.141592653589793238, etc.\n",
        "* string: (characters) \"1\", '0', \"3.29\", \"Mary\", \"euphoria\", 'My name is Jane.'\n",
        "\n",
        "_Note:_ double or single quotation marks denote **string** data. (Open and close should match.)"
      ],
      "metadata": {
        "id": "4zDbyBHbeQsq"
      }
    },
    {
      "cell_type": "code",
      "source": [
        "# DIY\n",
        "x = 1\n",
        "y = 3\n",
        "z = x + y\n",
        "print(z)\n",
        "\n",
        "x1 = \"1\"\n",
        "y1 = \"3\"\n",
        "z1 = x1 + y1\n",
        "print(z1)"
      ],
      "metadata": {
        "colab": {
          "base_uri": "https://localhost:8080/"
        },
        "id": "yzZuC29QfP3T",
        "outputId": "ff178494-9e9e-475f-cd4c-497ca2cf8481"
      },
      "execution_count": null,
      "outputs": [
        {
          "output_type": "stream",
          "name": "stdout",
          "text": [
            "4\n",
            "13\n"
          ]
        }
      ]
    },
    {
      "cell_type": "code",
      "source": [
        "type(z)"
      ],
      "metadata": {
        "colab": {
          "base_uri": "https://localhost:8080/"
        },
        "id": "qwDb8cf5fkKi",
        "outputId": "14dc714b-755d-4ea9-efbe-ca08753bc69b"
      },
      "execution_count": null,
      "outputs": [
        {
          "output_type": "execute_result",
          "data": {
            "text/plain": [
              "int"
            ]
          },
          "metadata": {},
          "execution_count": 20
        }
      ]
    },
    {
      "cell_type": "code",
      "source": [
        "type(z1)"
      ],
      "metadata": {
        "colab": {
          "base_uri": "https://localhost:8080/"
        },
        "id": "L7sxvSaOfsOt",
        "outputId": "62e4b8a5-a285-420b-9e28-29a4aca9239d"
      },
      "execution_count": null,
      "outputs": [
        {
          "output_type": "execute_result",
          "data": {
            "text/plain": [
              "str"
            ]
          },
          "metadata": {},
          "execution_count": 21
        }
      ]
    },
    {
      "cell_type": "code",
      "source": [
        "print(type(z), type(z1))"
      ],
      "metadata": {
        "colab": {
          "base_uri": "https://localhost:8080/"
        },
        "id": "bbFaL_GWfwMH",
        "outputId": "7f4e3965-e83a-4b24-9780-34d04e1a5305"
      },
      "execution_count": null,
      "outputs": [
        {
          "output_type": "stream",
          "name": "stdout",
          "text": [
            "<class 'int'> <class 'str'>\n"
          ]
        }
      ]
    },
    {
      "cell_type": "markdown",
      "source": [
        "## [2] Operators\n",
        "\n",
        "* Symbols that perform operations on values and variables. \n",
        "* They are used to perform arithmetic and logical operations, and they can also be used to manipulate and compare values. "
      ],
      "metadata": {
        "id": "5JgA2T2dRft5"
      }
    },
    {
      "cell_type": "markdown",
      "source": [
        "1. Arithmetic Operators: +, -, *, /, %, ** (for exponentiation)\n",
        "2. semicolon ';' - separate multiple statements (code lines) on a single line."
      ],
      "metadata": {
        "id": "NJBgu_O4bczL"
      }
    },
    {
      "cell_type": "code",
      "source": [
        "x = 2; y = 5\n",
        "\n",
        "a1 = x + y\n",
        "a2 = x - y\n",
        "a3 = x * y\n",
        "a4 = x / y\n",
        "a5 = x ** y"
      ],
      "metadata": {
        "id": "dXT3pIzobUHU"
      },
      "execution_count": null,
      "outputs": []
    },
    {
      "cell_type": "code",
      "source": [
        "print(a1, a2, a3, a4, a5)"
      ],
      "metadata": {
        "colab": {
          "base_uri": "https://localhost:8080/"
        },
        "id": "_m3JBsOKd6Uv",
        "outputId": "5ff61ad8-495f-409f-f9cf-4402e710780e"
      },
      "execution_count": null,
      "outputs": [
        {
          "output_type": "stream",
          "name": "stdout",
          "text": [
            "7 -3 10 0.4 32\n"
          ]
        }
      ]
    },
    {
      "cell_type": "code",
      "source": [
        "print(\"The value of a1:\", a1)"
      ],
      "metadata": {
        "colab": {
          "base_uri": "https://localhost:8080/"
        },
        "id": "5kq7I3nMd0Xi",
        "outputId": "d2b23cf4-6ce2-4cb8-809d-97db736c82bb"
      },
      "execution_count": null,
      "outputs": [
        {
          "output_type": "stream",
          "name": "stdout",
          "text": [
            "The value of a1: 7\n"
          ]
        }
      ]
    },
    {
      "cell_type": "markdown",
      "source": [
        "# 🌱 Define a function\n",
        "\n",
        "Demo 🔢 Calculator"
      ],
      "metadata": {
        "id": "Cx1NyWUAybc8"
      }
    },
    {
      "cell_type": "code",
      "source": [
        "# This function adds two numbers\n",
        "def add(x, y):\n",
        "    return x + y\n",
        "\n",
        "# This function subtracts two numbers\n",
        "def subtract(x, y):\n",
        "    return x - y\n",
        "\n",
        "# This function multiplies two numbers\n",
        "def multiply(x, y):\n",
        "    return x * y\n",
        "\n",
        "# This function divides two numbers\n",
        "def divide(x, y):\n",
        "    return x / y\n"
      ],
      "metadata": {
        "id": "Dod3_zgYdsWe"
      },
      "execution_count": 58,
      "outputs": []
    },
    {
      "cell_type": "code",
      "source": [
        "# DIY: define a function names switch(x, y), where the input x, y changes its position in the output.\n",
        "def switch(x, y):\n",
        "    return y, x\n",
        "def add(x, y):\n",
        "    return x+ y"
      ],
      "metadata": {
        "id": "W9CuAaqXgwb5"
      },
      "execution_count": 71,
      "outputs": []
    },
    {
      "cell_type": "code",
      "source": [
        "add(\"야미\",\"윤돈\")"
      ],
      "metadata": {
        "id": "br8NXBwtMpMI",
        "outputId": "b2e2277b-7ec0-4a31-b652-27bd3022f8ef",
        "colab": {
          "base_uri": "https://localhost:8080/",
          "height": 35
        }
      },
      "execution_count": 73,
      "outputs": [
        {
          "output_type": "execute_result",
          "data": {
            "text/plain": [
              "'야미윤돈'"
            ],
            "application/vnd.google.colaboratory.intrinsic+json": {
              "type": "string"
            }
          },
          "metadata": {},
          "execution_count": 73
        }
      ]
    },
    {
      "cell_type": "code",
      "source": [
        "# Test\n",
        "\n",
        "add(2,3)\n",
        "subtract(3,2)\n",
        "multiply(2,3)\n",
        "divide(3,2)"
      ],
      "metadata": {
        "id": "IoHh-U2GBsqH",
        "outputId": "03710a56-4f8e-448b-d034-cae61834e207",
        "colab": {
          "base_uri": "https://localhost:8080/"
        }
      },
      "execution_count": 74,
      "outputs": [
        {
          "output_type": "execute_result",
          "data": {
            "text/plain": [
              "1.5"
            ]
          },
          "metadata": {},
          "execution_count": 74
        }
      ]
    },
    {
      "cell_type": "markdown",
      "source": [
        "## Using dropbox format"
      ],
      "metadata": {
        "id": "eOluPoNqCCE1"
      }
    },
    {
      "cell_type": "code",
      "source": [
        "#@markdown 🔄 Making functions: tts('text')\n",
        "%%capture\n",
        "!pip install gTTS\n",
        "from gtts import gTTS\n",
        "from IPython.display import Audio\n",
        "\n",
        "def tts(text):\n",
        "  text_to_say = text\n",
        "\n",
        "  gtts_object = gTTS(text = text_to_say,\n",
        "                     lang = \"en\", tld = \"us\",\n",
        "                    slow = True)\n",
        "  \n",
        "  gtts_object.save(\"E-audio.mp3\")\n",
        "  return Audio(\"E-audio.mp3\")"
      ],
      "metadata": {
        "id": "nRtyN0p6NoKA"
      },
      "execution_count": 69,
      "outputs": []
    },
    {
      "cell_type": "code",
      "source": [
        "func = \"divide\" #@param = [\"add\",\"subtract\",\"multiply\",\"divide\"]\n",
        "digits = input(\"Type two numbers: (e.g., 3,4)\")\n",
        "digitsplit = digits.split(',')\n",
        "d1 = int(digitsplit[0])\n",
        "d2 = int(digitsplit[1])\n",
        "\n",
        "if func == \"add\":\n",
        "  result = add(d1,d2)\n",
        "  text = \"The addition of %d and %d equals %d.\"%(d1,d2,result)\n",
        "elif func == \"subtract\":\n",
        "  result = subtract(d1,d2)\n",
        "  text = \"If you subtract %d from %d, you get %d.\"%(d2,d1,result)\n",
        "elif func == \"divide\":\n",
        "  result = divide(d1,d2)\n",
        "  text = \"When you divide %d by %d, you get %d.\"%(d1,d2,result)\n",
        "elif func == \"multiply\":\n",
        "  result = multiply(d1,d2)\n",
        "  text = \"%d multiplied by %d is %d.\"%(d1,d2,result)\n",
        "\n",
        "print(text)\n",
        "tts(text)\n",
        "Audio(\"E-audio.mp3\")"
      ],
      "metadata": {
        "id": "FT47bY6qBo3k",
        "outputId": "2362f5dc-cf0f-4d2b-83f9-d7ac3f4ff456",
        "colab": {
          "base_uri": "https://localhost:8080/",
          "height": 111
        }
      },
      "execution_count": 70,
      "outputs": [
        {
          "output_type": "stream",
          "name": "stdout",
          "text": [
            "Type two numbers: (e.g., 3,4)3456,81\n",
            "When you divide 3456 by 81, you get 42.\n"
          ]
        },
        {
          "output_type": "execute_result",
          "data": {
            "text/plain": [
              "<IPython.lib.display.Audio object>"
            ],
            "text/html": [
              "\n",
              "                <audio  controls=\"controls\" >\n",
              "                    <source src=\"data:audio/mpeg;base64,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\" type=\"audio/mpeg\" />\n",
              "                    Your browser does not support the audio element.\n",
              "                </audio>\n",
              "              "
            ]
          },
          "metadata": {},
          "execution_count": 70
        }
      ]
    },
    {
      "cell_type": "markdown",
      "source": [
        "More operators: <br>\n",
        "* Comparison Operators: ==, !=, <, >, <=, >= <br>\n",
        "* Assignment Operators: =, +=, -=, *=, /=, %= <br>\n",
        "* Logical Operators: and, or, not <br>\n",
        "* Identity Operators: is, is not <br>\n",
        "* Membership Operators: in, not in "
      ],
      "metadata": {
        "id": "sfubu24UbqjH"
      }
    },
    {
      "cell_type": "markdown",
      "source": [
        "# 📗Topic [3] Data types: number, string, list and dictionary\n"
      ],
      "metadata": {
        "id": "3eSrUoglRh6-"
      }
    },
    {
      "cell_type": "markdown",
      "source": [
        "\n",
        "|Data type| |\n",
        "|:--:|:--:|\n",
        "|number|int, float|\n",
        "|string|charcter|\n",
        "|list|[1, 2,4], ['Mary','Tom','Jane'|\n",
        "|dictionary|(key: value), [('English': 80), ('Korean':90)]|\n",
        "|tuple|('zero', 0)|\n"
      ],
      "metadata": {
        "id": "ZVFb5JmJrPXu"
      }
    },
    {
      "cell_type": "code",
      "source": [
        "a1 = 3   # a1 is integer\n",
        "a2 = 3.0 # a2 is float\n",
        "a3 = \"3\" # a3 is string\n",
        "\n",
        "type(a1); type(a2); type(a3)\n",
        "# print(type(a1), type(a2), type(a3))"
      ],
      "metadata": {
        "colab": {
          "base_uri": "https://localhost:8080/"
        },
        "id": "g-kvldqENA1e",
        "outputId": "7ac463bc-4877-4e58-ed5d-d31a0c38b8c3"
      },
      "execution_count": null,
      "outputs": [
        {
          "output_type": "stream",
          "name": "stdout",
          "text": [
            "<class 'int'> <class 'float'> <class 'str'>\n"
          ]
        }
      ]
    },
    {
      "cell_type": "markdown",
      "source": [
        "list and index (0, 1, 2,...)"
      ],
      "metadata": {
        "id": "HC_wMsPnNbzs"
      }
    },
    {
      "cell_type": "code",
      "source": [
        "a = [1, \"Mary\", 4, \"John\"]  # This is a list.\n",
        "print(type(a))\n",
        "\n",
        "# a+a"
      ],
      "metadata": {
        "colab": {
          "base_uri": "https://localhost:8080/"
        },
        "id": "LyTw7phONZHE",
        "outputId": "ec5b395e-670f-4a1e-805e-8e071703708a"
      },
      "execution_count": 56,
      "outputs": [
        {
          "output_type": "stream",
          "name": "stdout",
          "text": [
            "<class 'list'>\n"
          ]
        }
      ]
    },
    {
      "cell_type": "markdown",
      "source": [
        "* index: Python index starts from '0'\n",
        "\n",
        "e.g., a = [1, 2, 3, 4]"
      ],
      "metadata": {
        "id": "-fL-pJvj7NW8"
      }
    },
    {
      "cell_type": "code",
      "source": [
        "a[0]\n",
        "type(a[0])\n",
        "type(a[1])\n",
        "a[0] + a[2]\n",
        "a[0] + a[1] # int + str = error"
      ],
      "metadata": {
        "id": "9Z5zLDGc7X13",
        "outputId": "74fa0e04-8a18-482d-e0f2-c83535205699",
        "colab": {
          "base_uri": "https://localhost:8080/",
          "height": 211
        }
      },
      "execution_count": 57,
      "outputs": [
        {
          "output_type": "error",
          "ename": "TypeError",
          "evalue": "ignored",
          "traceback": [
            "\u001b[0;31m---------------------------------------------------------------------------\u001b[0m",
            "\u001b[0;31mTypeError\u001b[0m                                 Traceback (most recent call last)",
            "\u001b[0;32m<ipython-input-57-6b699a7a71e2>\u001b[0m in \u001b[0;36m<module>\u001b[0;34m\u001b[0m\n\u001b[1;32m      3\u001b[0m \u001b[0mtype\u001b[0m\u001b[0;34m(\u001b[0m\u001b[0ma\u001b[0m\u001b[0;34m[\u001b[0m\u001b[0;36m1\u001b[0m\u001b[0;34m]\u001b[0m\u001b[0;34m)\u001b[0m\u001b[0;34m\u001b[0m\u001b[0;34m\u001b[0m\u001b[0m\n\u001b[1;32m      4\u001b[0m \u001b[0ma\u001b[0m\u001b[0;34m[\u001b[0m\u001b[0;36m0\u001b[0m\u001b[0;34m]\u001b[0m \u001b[0;34m+\u001b[0m \u001b[0ma\u001b[0m\u001b[0;34m[\u001b[0m\u001b[0;36m2\u001b[0m\u001b[0;34m]\u001b[0m\u001b[0;34m\u001b[0m\u001b[0;34m\u001b[0m\u001b[0m\n\u001b[0;32m----> 5\u001b[0;31m \u001b[0ma\u001b[0m\u001b[0;34m[\u001b[0m\u001b[0;36m0\u001b[0m\u001b[0;34m]\u001b[0m \u001b[0;34m+\u001b[0m \u001b[0ma\u001b[0m\u001b[0;34m[\u001b[0m\u001b[0;36m1\u001b[0m\u001b[0;34m]\u001b[0m \u001b[0;31m# int + str = error\u001b[0m\u001b[0;34m\u001b[0m\u001b[0;34m\u001b[0m\u001b[0m\n\u001b[0m",
            "\u001b[0;31mTypeError\u001b[0m: unsupported operand type(s) for +: 'int' and 'str'"
          ]
        }
      ]
    },
    {
      "cell_type": "markdown",
      "source": [
        "[Github accounts](https://raw.githubusercontent.com/MK316/Spring2023/main/DL/files/DL_github.csv)"
      ],
      "metadata": {
        "id": "S-KG49Zaim0S"
      }
    },
    {
      "cell_type": "markdown",
      "source": [
        "\n",
        "\n",
        "---\n",
        "# The End\n"
      ],
      "metadata": {
        "id": "3cZjH9xIiN4_"
      }
    }
  ]
}