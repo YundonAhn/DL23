{
  "nbformat": 4,
  "nbformat_minor": 0,
  "metadata": {
    "colab": {
      "provenance": [],
      "include_colab_link": true
    },
    "kernelspec": {
      "name": "python3",
      "display_name": "Python 3"
    },
    "language_info": {
      "name": "python"
    }
  },
  "cells": [
    {
      "cell_type": "markdown",
      "metadata": {
        "id": "view-in-github",
        "colab_type": "text"
      },
      "source": [
        "<a href=\"https://colab.research.google.com/github/YundonAhn/DL23/blob/main/DL/DLW02d.ipynb\" target=\"_parent\"><img src=\"https://colab.research.google.com/assets/colab-badge.svg\" alt=\"Open In Colab\"/></a>"
      ]
    },
    {
      "cell_type": "markdown",
      "source": [
        "---\n",
        "# 📗 Topic [2]: Coding basic #2\n",
        "---\n",
        "Keywords:\n",
        "\n",
        "+ variables\n",
        "+ **operators**\n",
        "+ **data types: list and dictionary**"
      ],
      "metadata": {
        "id": "k4A5_MYHpcNQ"
      }
    },
    {
      "cell_type": "markdown",
      "source": [
        "Your github IDs [here](https://docs.google.com/spreadsheets/d/17SX51lCqOdtvC7cAGoX5tP9fKwVdGY5sRzMg2pXh9uk/edit#gid=0) - revised 0327"
      ],
      "metadata": {
        "id": "mUVgzk50XMkt"
      }
    },
    {
      "cell_type": "markdown",
      "source": [
        "## [1] Variables"
      ],
      "metadata": {
        "id": "93gQaEo1RX63"
      }
    },
    {
      "cell_type": "markdown",
      "source": [
        "+ **A variable** is a named storage location that holds a value.\n",
        "+ Variables can be used **to store values** such as numbers, strings, lists, or other data types. \n",
        "+ The value of a variable can change throughout the execution of a program. \n",
        "+ To declare a variable in Python, you need to assign a value to it using the **equal (=) sign.**"
      ],
      "metadata": {
        "id": "jJT4hD1teuJr"
      }
    },
    {
      "cell_type": "code",
      "source": [
        "x = 10\n",
        "y = \"Hello, class!\"\n",
        "z = [1, 2, 3]"
      ],
      "metadata": {
        "id": "Xes87bY2X45M"
      },
      "execution_count": null,
      "outputs": []
    },
    {
      "cell_type": "markdown",
      "source": [
        "↗️ In the above example, 'x' is assigned the value of 10, 'y' is assigned the value of \"Hello, World!\", and 'z' is assigned the value of [1, 2, 3]."
      ],
      "metadata": {
        "id": "ulw6QsP5ZiKp"
      }
    },
    {
      "cell_type": "code",
      "source": [
        "# We can assign a link or a function\n",
        "import pandas as pd\n",
        "url = \"https://github.com/MK316/Spring2023/raw/main/data/att_sample.csv\"\n",
        "data = pd.read_csv(url)\n",
        "data"
      ],
      "metadata": {
        "id": "_7bvpJt2aQmg"
      },
      "execution_count": null,
      "outputs": []
    },
    {
      "cell_type": "markdown",
      "source": [
        "## Commenting '#'\n",
        "\n",
        "- In Python, the # symbol is used to indicate comment lines. A comment is a line of text in a code that is ignored by the Python interpreter and is used to provide explanations or notes for the reader of the code.\n",
        "\n",
        "## Uncommenting shortcut: \n",
        "* \"Ctrl + /\" (Place the cursor on the code line and press the Control + / key.)"
      ],
      "metadata": {
        "id": "xZv9R8I8ZWvt"
      }
    },
    {
      "cell_type": "code",
      "source": [
        "# This is a comment in Python\n",
        "x = 10 # this is also a comment"
      ],
      "metadata": {
        "id": "7UJmbmmTaFx9"
      },
      "execution_count": null,
      "outputs": []
    },
    {
      "cell_type": "code",
      "source": [
        "x1 = x * 10\n",
        "x2 = x + 5\n",
        "\n",
        "#print(x1) # Print the value of x1\n",
        "# print(x1, x2) # Print the values of x1 and x2"
      ],
      "metadata": {
        "id": "Ivc72tB0X_TS"
      },
      "execution_count": null,
      "outputs": []
    },
    {
      "cell_type": "code",
      "source": [
        "print(y)\n",
        "y1 = y + \"Welcome to the class.\"\n",
        "z1 = z + [3,2,1]\n",
        " \n",
        "print(y1, z1)"
      ],
      "metadata": {
        "id": "cxePqv-52RU0",
        "outputId": "81912ad4-9579-4363-95d6-fae908870a13",
        "colab": {
          "base_uri": "https://localhost:8080/"
        }
      },
      "execution_count": null,
      "outputs": [
        {
          "output_type": "stream",
          "name": "stdout",
          "text": [
            "Hello, class!\n",
            "Hello, class!Welcome to the class. [1, 2, 3, 3, 2, 1]\n"
          ]
        }
      ]
    },
    {
      "cell_type": "markdown",
      "source": [
        "Input types:\n",
        "\n",
        "* integer: e.g., -3, 1, 0, 234, etc.\n",
        "* float: e.g., -3.0, 1.2, 0, 3.141592653589793238, etc.\n",
        "* string: (characters) \"1\", '0', \"3.29\", \"Mary\", \"euphoria\", 'My name is Jane.'\n",
        "\n",
        "_Note:_ double or single quotation marks denote **string** data. (Open and close should match.)"
      ],
      "metadata": {
        "id": "4zDbyBHbeQsq"
      }
    },
    {
      "cell_type": "code",
      "source": [
        "# DIY\n",
        "x = 1\n",
        "y = 3\n",
        "z = x + y\n",
        "print(z)\n",
        "\n",
        "x1 = \"1\"\n",
        "y1 = \"3\"\n",
        "z1 = x1 + y1\n",
        "print(z1)"
      ],
      "metadata": {
        "colab": {
          "base_uri": "https://localhost:8080/"
        },
        "id": "yzZuC29QfP3T",
        "outputId": "ff178494-9e9e-475f-cd4c-497ca2cf8481"
      },
      "execution_count": null,
      "outputs": [
        {
          "output_type": "stream",
          "name": "stdout",
          "text": [
            "4\n",
            "13\n"
          ]
        }
      ]
    },
    {
      "cell_type": "code",
      "source": [
        "type(z)"
      ],
      "metadata": {
        "colab": {
          "base_uri": "https://localhost:8080/"
        },
        "id": "qwDb8cf5fkKi",
        "outputId": "14dc714b-755d-4ea9-efbe-ca08753bc69b"
      },
      "execution_count": null,
      "outputs": [
        {
          "output_type": "execute_result",
          "data": {
            "text/plain": [
              "int"
            ]
          },
          "metadata": {},
          "execution_count": 20
        }
      ]
    },
    {
      "cell_type": "code",
      "source": [
        "type(z1)"
      ],
      "metadata": {
        "colab": {
          "base_uri": "https://localhost:8080/"
        },
        "id": "L7sxvSaOfsOt",
        "outputId": "62e4b8a5-a285-420b-9e28-29a4aca9239d"
      },
      "execution_count": null,
      "outputs": [
        {
          "output_type": "execute_result",
          "data": {
            "text/plain": [
              "str"
            ]
          },
          "metadata": {},
          "execution_count": 21
        }
      ]
    },
    {
      "cell_type": "code",
      "source": [
        "print(type(z), type(z1))"
      ],
      "metadata": {
        "colab": {
          "base_uri": "https://localhost:8080/"
        },
        "id": "bbFaL_GWfwMH",
        "outputId": "7f4e3965-e83a-4b24-9780-34d04e1a5305"
      },
      "execution_count": null,
      "outputs": [
        {
          "output_type": "stream",
          "name": "stdout",
          "text": [
            "<class 'int'> <class 'str'>\n"
          ]
        }
      ]
    },
    {
      "cell_type": "markdown",
      "source": [
        "## [2] Operators\n",
        "\n",
        "* Symbols that perform operations on values and variables. \n",
        "* They are used to perform arithmetic and logical operations, and they can also be used to manipulate and compare values. "
      ],
      "metadata": {
        "id": "5JgA2T2dRft5"
      }
    },
    {
      "cell_type": "markdown",
      "source": [
        "1. Arithmetic Operators: +, -, *, /, %, ** (for exponentiation)\n",
        "2. semicolon ';' - separate multiple statements (code lines) on a single line."
      ],
      "metadata": {
        "id": "NJBgu_O4bczL"
      }
    },
    {
      "cell_type": "code",
      "source": [
        "x = 2; y = 5\n",
        "\n",
        "a1 = x + y\n",
        "a2 = x - y\n",
        "a3 = x * y\n",
        "a4 = x / y\n",
        "a5 = x ** y"
      ],
      "metadata": {
        "id": "dXT3pIzobUHU"
      },
      "execution_count": null,
      "outputs": []
    },
    {
      "cell_type": "code",
      "source": [
        "print(a1, a2, a3, a4, a5)"
      ],
      "metadata": {
        "colab": {
          "base_uri": "https://localhost:8080/"
        },
        "id": "_m3JBsOKd6Uv",
        "outputId": "5ff61ad8-495f-409f-f9cf-4402e710780e"
      },
      "execution_count": null,
      "outputs": [
        {
          "output_type": "stream",
          "name": "stdout",
          "text": [
            "7 -3 10 0.4 32\n"
          ]
        }
      ]
    },
    {
      "cell_type": "code",
      "source": [
        "print(\"The value of a1:\", a1)"
      ],
      "metadata": {
        "colab": {
          "base_uri": "https://localhost:8080/"
        },
        "id": "5kq7I3nMd0Xi",
        "outputId": "d2b23cf4-6ce2-4cb8-809d-97db736c82bb"
      },
      "execution_count": null,
      "outputs": [
        {
          "output_type": "stream",
          "name": "stdout",
          "text": [
            "The value of a1: 7\n"
          ]
        }
      ]
    },
    {
      "cell_type": "markdown",
      "source": [
        "# 🌱 Define a function\n",
        "\n",
        "Demo 🔢 Calculator"
      ],
      "metadata": {
        "id": "Cx1NyWUAybc8"
      }
    },
    {
      "cell_type": "code",
      "source": [
        "# This function adds two numbers\n",
        "def add(x, y):\n",
        "    return x + y\n",
        "\n",
        "# This function subtracts two numbers\n",
        "def subtract(x, y):\n",
        "    return x - y\n",
        "\n",
        "# This function multiplies two numbers\n",
        "def multiply(x, y):\n",
        "    return x * y\n",
        "\n",
        "# This function divides two numbers\n",
        "def divide(x, y):\n",
        "    return x / y\n"
      ],
      "metadata": {
        "id": "Dod3_zgYdsWe"
      },
      "execution_count": null,
      "outputs": []
    },
    {
      "cell_type": "code",
      "source": [
        "# DIY: define a function names switch(x, y), where the input x, y changes its position in the output."
      ],
      "metadata": {
        "id": "W9CuAaqXgwb5"
      },
      "execution_count": null,
      "outputs": []
    },
    {
      "cell_type": "code",
      "source": [
        "add(1200,34)"
      ],
      "metadata": {
        "id": "br8NXBwtMpMI",
        "outputId": "ca5193ea-4c82-4a8e-baa2-151a1c6d78d4",
        "colab": {
          "base_uri": "https://localhost:8080/"
        }
      },
      "execution_count": null,
      "outputs": [
        {
          "output_type": "execute_result",
          "data": {
            "text/plain": [
              "1234"
            ]
          },
          "metadata": {},
          "execution_count": 25
        }
      ]
    },
    {
      "cell_type": "code",
      "source": [
        "# Test\n",
        "\n",
        "add(2,3)\n",
        "subtract(3,2)\n",
        "multiply(2,3)\n",
        "divide(3,2)"
      ],
      "metadata": {
        "id": "IoHh-U2GBsqH",
        "outputId": "95b74b11-dca8-4989-8007-de256f61deef",
        "colab": {
          "base_uri": "https://localhost:8080/"
        }
      },
      "execution_count": null,
      "outputs": [
        {
          "output_type": "execute_result",
          "data": {
            "text/plain": [
              "1.5"
            ]
          },
          "metadata": {},
          "execution_count": 29
        }
      ]
    },
    {
      "cell_type": "markdown",
      "source": [
        "## Using dropbox format"
      ],
      "metadata": {
        "id": "eOluPoNqCCE1"
      }
    },
    {
      "cell_type": "code",
      "source": [
        "#@markdown 🔄 Making functions: tts('text')\n",
        "%%capture\n",
        "!pip install gTTS\n",
        "from gtts import gTTS\n",
        "from IPython.display import Audio\n",
        "\n",
        "def tts(text):\n",
        "  text_to_say = text\n",
        "\n",
        "  gtts_object = gTTS(text = text_to_say,\n",
        "                     lang = \"en\", tld = \"us\",\n",
        "                    slow = True)\n",
        "  \n",
        "  gtts_object.save(\"E-audio.mp3\")\n",
        "  return Audio(\"E-audio.mp3\")"
      ],
      "metadata": {
        "id": "nRtyN0p6NoKA"
      },
      "execution_count": null,
      "outputs": []
    },
    {
      "cell_type": "code",
      "source": [
        "func = \"divide\" #@param = [\"add\",\"subtract\",\"multiply\",\"divide\"]\n",
        "digits = input(\"Type two numbers: (e.g., 3,4)\")\n",
        "digitsplit = digits.split(',')\n",
        "d1 = int(digitsplit[0])\n",
        "d2 = int(digitsplit[1])\n",
        "\n",
        "if func == \"add\":\n",
        "  result = add(d1,d2)\n",
        "  text = \"The addition of %d and %d equals %d.\"%(d1,d2,result)\n",
        "elif func == \"subtract\":\n",
        "  result = subtract(d1,d2)\n",
        "  text = \"If you subtract %d from %d, you get %d.\"%(d2,d1,result)\n",
        "elif func == \"divide\":\n",
        "  result = divide(d1,d2)\n",
        "  text = \"When you divide %d by %d, you get %d.\"%(d1,d2,result)\n",
        "elif func == \"multiply\":\n",
        "  result = multiply(d1,d2)\n",
        "  text = \"%d multiplied by %d is %d.\"%(d1,d2,result)\n",
        "\n",
        "print(text)\n",
        "tts(text)\n",
        "Audio(\"E-audio.mp3\")"
      ],
      "metadata": {
        "cellView": "form",
        "id": "FT47bY6qBo3k",
        "outputId": "68f54e85-e406-4c12-f8ec-98405af89d3e",
        "colab": {
          "base_uri": "https://localhost:8080/",
          "height": 110
        }
      },
      "execution_count": null,
      "outputs": [
        {
          "output_type": "stream",
          "name": "stdout",
          "text": [
            "Type two numbers: (e.g., 3,4)3456,23\n",
            "When you divide 3456 by 23, you get 150.\n"
          ]
        },
        {
          "output_type": "execute_result",
          "data": {
            "text/plain": [
              "<IPython.lib.display.Audio object>"
            ],
            "text/html": [
              "\n",
              "                <audio  controls=\"controls\" >\n",
              "                    <source src=\"data:audio/mpeg;base64,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\" type=\"audio/mpeg\" />\n",
              "                    Your browser does not support the audio element.\n",
              "                </audio>\n",
              "              "
            ]
          },
          "metadata": {},
          "execution_count": 34
        }
      ]
    },
    {
      "cell_type": "markdown",
      "source": [
        "More operators: <br>\n",
        "* Comparison Operators: ==, !=, <, >, <=, >= <br>\n",
        "* Assignment Operators: =, +=, -=, *=, /=, %= <br>\n",
        "* Logical Operators: and, or, not <br>\n",
        "* Identity Operators: is, is not <br>\n",
        "* Membership Operators: in, not in "
      ],
      "metadata": {
        "id": "sfubu24UbqjH"
      }
    },
    {
      "cell_type": "markdown",
      "source": [
        "# 📗Topic [3] Data types: number, string, list and dictionary\n"
      ],
      "metadata": {
        "id": "3eSrUoglRh6-"
      }
    },
    {
      "cell_type": "markdown",
      "source": [
        "\n",
        "|Data type| |\n",
        "|:--:|:--:|\n",
        "|number|int, float|\n",
        "|string|charcter|\n",
        "|list|[1, 2,4], ['Mary','Tom','Jane'|\n",
        "|dictionary|(key: value), [('English': 80), ('Korean':90)]|\n",
        "|tuple|('zero', 0)|\n"
      ],
      "metadata": {
        "id": "ZVFb5JmJrPXu"
      }
    },
    {
      "cell_type": "code",
      "source": [
        "a1 = 3   # a1 is integer\n",
        "a2 = 3.0 # a2 is float\n",
        "a3 = \"3\" # a3 is string\n",
        "\n",
        "type(a1); type(a2); type(a3)\n",
        "# print(type(a1), type(a2), type(a3))"
      ],
      "metadata": {
        "colab": {
          "base_uri": "https://localhost:8080/"
        },
        "id": "g-kvldqENA1e",
        "outputId": "7ac463bc-4877-4e58-ed5d-d31a0c38b8c3"
      },
      "execution_count": null,
      "outputs": [
        {
          "output_type": "stream",
          "name": "stdout",
          "text": [
            "<class 'int'> <class 'float'> <class 'str'>\n"
          ]
        }
      ]
    },
    {
      "cell_type": "markdown",
      "source": [
        "list and index (0, 1, 2,...)"
      ],
      "metadata": {
        "id": "HC_wMsPnNbzs"
      }
    },
    {
      "cell_type": "code",
      "source": [
        "a = [1, \"Mary\", 4, \"John\"]  # This is a list.\n",
        "print(type(a))\n",
        "\n",
        "# a+a"
      ],
      "metadata": {
        "colab": {
          "base_uri": "https://localhost:8080/"
        },
        "id": "LyTw7phONZHE",
        "outputId": "ec5b395e-670f-4a1e-805e-8e071703708a"
      },
      "execution_count": 56,
      "outputs": [
        {
          "output_type": "stream",
          "name": "stdout",
          "text": [
            "<class 'list'>\n"
          ]
        }
      ]
    },
    {
      "cell_type": "markdown",
      "source": [
        "* index: Python index starts from '0'\n",
        "\n",
        "e.g., a = [1, 2, 3, 4]"
      ],
      "metadata": {
        "id": "-fL-pJvj7NW8"
      }
    },
    {
      "cell_type": "code",
      "source": [
        "a[0]\n",
        "type(a[0])\n",
        "type(a[1])\n",
        "a[0] + a[2]\n",
        "a[0] + a[1] # int + str = error"
      ],
      "metadata": {
        "id": "9Z5zLDGc7X13",
        "outputId": "74fa0e04-8a18-482d-e0f2-c83535205699",
        "colab": {
          "base_uri": "https://localhost:8080/",
          "height": 211
        }
      },
      "execution_count": 57,
      "outputs": [
        {
          "output_type": "error",
          "ename": "TypeError",
          "evalue": "ignored",
          "traceback": [
            "\u001b[0;31m---------------------------------------------------------------------------\u001b[0m",
            "\u001b[0;31mTypeError\u001b[0m                                 Traceback (most recent call last)",
            "\u001b[0;32m<ipython-input-57-6b699a7a71e2>\u001b[0m in \u001b[0;36m<module>\u001b[0;34m\u001b[0m\n\u001b[1;32m      3\u001b[0m \u001b[0mtype\u001b[0m\u001b[0;34m(\u001b[0m\u001b[0ma\u001b[0m\u001b[0;34m[\u001b[0m\u001b[0;36m1\u001b[0m\u001b[0;34m]\u001b[0m\u001b[0;34m)\u001b[0m\u001b[0;34m\u001b[0m\u001b[0;34m\u001b[0m\u001b[0m\n\u001b[1;32m      4\u001b[0m \u001b[0ma\u001b[0m\u001b[0;34m[\u001b[0m\u001b[0;36m0\u001b[0m\u001b[0;34m]\u001b[0m \u001b[0;34m+\u001b[0m \u001b[0ma\u001b[0m\u001b[0;34m[\u001b[0m\u001b[0;36m2\u001b[0m\u001b[0;34m]\u001b[0m\u001b[0;34m\u001b[0m\u001b[0;34m\u001b[0m\u001b[0m\n\u001b[0;32m----> 5\u001b[0;31m \u001b[0ma\u001b[0m\u001b[0;34m[\u001b[0m\u001b[0;36m0\u001b[0m\u001b[0;34m]\u001b[0m \u001b[0;34m+\u001b[0m \u001b[0ma\u001b[0m\u001b[0;34m[\u001b[0m\u001b[0;36m1\u001b[0m\u001b[0;34m]\u001b[0m \u001b[0;31m# int + str = error\u001b[0m\u001b[0;34m\u001b[0m\u001b[0;34m\u001b[0m\u001b[0m\n\u001b[0m",
            "\u001b[0;31mTypeError\u001b[0m: unsupported operand type(s) for +: 'int' and 'str'"
          ]
        }
      ]
    },
    {
      "cell_type": "markdown",
      "source": [
        "[Github accounts](https://raw.githubusercontent.com/MK316/Spring2023/main/DL/files/DL_github.csv)"
      ],
      "metadata": {
        "id": "S-KG49Zaim0S"
      }
    },
    {
      "cell_type": "markdown",
      "source": [
        "\n",
        "\n",
        "---\n",
        "# The End\n"
      ],
      "metadata": {
        "id": "3cZjH9xIiN4_"
      }
    }
  ]
}