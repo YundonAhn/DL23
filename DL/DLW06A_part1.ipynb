{
  "nbformat": 4,
  "nbformat_minor": 0,
  "metadata": {
    "colab": {
      "provenance": [],
      "include_colab_link": true
    },
    "kernelspec": {
      "name": "python3",
      "display_name": "Python 3"
    },
    "language_info": {
      "name": "python"
    }
  },
  "cells": [
    {
      "cell_type": "markdown",
      "metadata": {
        "id": "view-in-github",
        "colab_type": "text"
      },
      "source": [
        "<a href=\"https://colab.research.google.com/github/YundonAhn/DL23/blob/main/DL/DLW06A_part1.ipynb\" target=\"_parent\"><img src=\"https://colab.research.google.com/assets/colab-badge.svg\" alt=\"Open In Colab\"/></a>"
      ]
    },
    {
      "cell_type": "markdown",
      "source": [
        "# 🌀**DLW06A Part I (4/12)** Coding and Language games"
      ],
      "metadata": {
        "id": "_mbT_YJKGkm-"
      }
    },
    {
      "cell_type": "markdown",
      "source": [
        "# 💕 Goal: Creating an app similar to **_Word Guessing Game from Hints_**\n",
        "\n",
        "We will be spending 2 weeks to get this go."
      ],
      "metadata": {
        "id": "ppmHMRdisMiv"
      }
    },
    {
      "cell_type": "markdown",
      "source": [
        "##💦 **Demo 1: Making a word quiz.**"
      ],
      "metadata": {
        "id": "MWpQZGE5wZgt"
      }
    },
    {
      "cell_type": "code",
      "source": [
        "#@markdown Run this code to see guesiong game\n",
        "import random\n",
        "\n",
        "# Define a dictionary of words and their hints\n",
        "word_hints = {\n",
        "    \"suprasegmental\": [\n",
        "        \"This term is related to the features of speech that go beyond individual sounds.\",\n",
        "        \"It is often associated with intonation, stress, and timing.\",\n",
        "        \"Examples include pitch, tone, and stress patterns.\",\n",
        "        \"The answer begins with 's'.\"\n",
        "    ],\n",
        "    \"geminate\": [\n",
        "        \"This term is related to a specific type of consonant.\",\n",
        "        \"It refers to a consonant that is pronounced for a longer duration than its regular counterpart.\",\n",
        "        \"In some languages, it can be represented by doubling the consonant in writing.\",\n",
        "        \"The answer begins with 'g'.\"\n",
        "    ],\n",
        "    \"syllable\": [\n",
        "        \"This term is related to a unit of speech.\",\n",
        "        \"It is a sequence of speech sounds, typically consisting of a vowel and any surrounding consonants.\",\n",
        "        \"A word can have one or multiple of these units.\",\n",
        "        \"The answer begins with 's'.\"\n",
        "    ]\n",
        "}\n",
        "\n",
        "# Define guessing game\n",
        "\n",
        "def guessing_game(word_hints):\n",
        "    words = list(word_hints.keys())\n",
        "    random.shuffle(words)\n",
        "\n",
        "    for word in words:\n",
        "        print(\"\\nGuess the word based on the following hints:\")\n",
        "        hints = word_hints[word]\n",
        "        attempts = 0\n",
        "\n",
        "        while attempts < len(hints):\n",
        "            print(f\"Hint {attempts + 1}: {hints[attempts]}\")\n",
        "            guess = input(\"Your guess: \").strip().lower()\n",
        "\n",
        "            if guess == word.lower():\n",
        "                print(\"Congratulations! You guessed the correct word!\\n\")\n",
        "                break\n",
        "            else:\n",
        "                print(\"Incorrect. Try again with another hint.\\n\")\n",
        "                attempts += 1\n",
        "\n",
        "        if attempts == len(hints):\n",
        "            print(f\"Sorry, you've run out of hints. The correct word was: {word}\\n\")\n",
        "\n",
        "# Using this conditional structure is a common practice in Python to allow a script to be both executed as a standalone program and imported as a module in other scripts without immediately running the code within the script.\n",
        "if __name__ == \"__main__\":\n",
        "  guessing_game(word_hints)"
      ],
      "metadata": {
        "cellView": "form",
        "id": "68fDLUnZs8KF",
        "colab": {
          "base_uri": "https://localhost:8080/"
        },
        "outputId": "e6c0f0b5-8c29-4999-89d9-12ea809ce7bf"
      },
      "execution_count": 6,
      "outputs": [
        {
          "output_type": "stream",
          "name": "stdout",
          "text": [
            "\n",
            "Guess the word based on the following hints:\n",
            "Hint 1: This term is related to the features of speech that go beyond individual sounds.\n",
            "Your guess: suprasegmental\n",
            "Congratulations! You guessed the correct word!\n",
            "\n",
            "\n",
            "Guess the word based on the following hints:\n",
            "Hint 1: This term is related to a specific type of consonant.\n",
            "Your guess: geminate\n",
            "Congratulations! You guessed the correct word!\n",
            "\n",
            "\n",
            "Guess the word based on the following hints:\n",
            "Hint 1: This term is related to a unit of speech.\n",
            "Your guess: syallble\n",
            "Incorrect. Try again with another hint.\n",
            "\n",
            "Hint 2: It is a sequence of speech sounds, typically consisting of a vowel and any surrounding consonants.\n",
            "Your guess: syllable\n",
            "Congratulations! You guessed the correct word!\n",
            "\n"
          ]
        }
      ]
    },
    {
      "cell_type": "markdown",
      "source": [
        "##💦**Demo 2: Convert a statement to a yes-no question**"
      ],
      "metadata": {
        "id": "DKwjeU8pW-iu"
      }
    },
    {
      "cell_type": "code",
      "source": [
        "#@markdown Install and import libraries\n",
        "%%capture\n",
        "!pip install gtts\n",
        "!pip install IPython\n",
        "from gtts import gTTS\n",
        "from IPython.display import Audio, display\n",
        "\n",
        "#@markdown etts(), ktts()\n",
        "def etts(text):\n",
        "  text_to_say = text\n",
        "\n",
        "  gtts_object = gTTS(text = text_to_say,\n",
        "                     lang = \"en\",\n",
        "                    slow = False)\n",
        "  \n",
        "  gtts_object.save(\"E-audio.mp3\")\n",
        "  return Audio(\"E-audio.mp3\")\n",
        "\n",
        "def ktts(text):\n",
        "  text_to_say = text\n",
        "\n",
        "  gtts_object = gTTS(text = text_to_say,\n",
        "                     lang = \"ko\",\n",
        "                    slow = False)\n",
        "  \n",
        "  gtts_object.save(\"K-audio.mp3\")\n",
        "  return Audio(\"K-audio.mp3\")"
      ],
      "metadata": {
        "id": "TajMEehr8_7D"
      },
      "execution_count": 2,
      "outputs": []
    },
    {
      "cell_type": "markdown",
      "source": [
        "---\n",
        "### Complete version with some restriction \n",
        "\n",
        "1. The statement you're entering must contain a be-verb.\n",
        "2. If you use a proper noun as a subject, restrict it to one of the followings: \n",
        "\n",
        "> **Male: Tom, Thomas, Bill**\n",
        "\n",
        "> **Female: Mary, Jane, Jessica**\n",
        "\n",
        "2. Must contain a punctuation(.)\n",
        "---"
      ],
      "metadata": {
        "id": "5XYJaX2IDrOu"
      }
    },
    {
      "cell_type": "code",
      "source": [
        "#@markdown Statment to a Yes-No question (Audio autoplay)\n",
        "sentence = input(\"Type a sentence containing a be verb: e.g., I am a students.\\n\")\n",
        "beverbs = [\"is\", \"was\", \"are\", \"were\"]\n",
        "pronouns = [\"I\",\"You\",\"He\",\"She\",\"They\",\"It\"]\n",
        "names = [\"Mary\", \"Jane\", \"Tom\",\"Thomas\",\"Jessica\", \"Bill\"]\n",
        "\n",
        "def check_word(list_A, list_B):\n",
        "    for a in list_A:\n",
        "        for b in list_B:\n",
        "            if b in a:\n",
        "                mword = a\n",
        "                return True, mword\n",
        "    return False, None\n",
        "\n",
        "\n",
        "cat1 = sentence.split()\n",
        "\n",
        "result = check_word(cat1,beverbs)\n",
        "\n",
        "if result[0] == True:\n",
        "  if cat1[0] in pronouns:\n",
        "      b = result[1]\n",
        "      be = \" \"+b+\" \"\n",
        "      ss = sentence.split(be)\n",
        "      subj = ss[0]\n",
        "      nsubj = subj[0].lower()+subj[1:]\n",
        "      pred = ss[1]\n",
        "      w1 = b[0].upper() + b[1:] # Capitalized be verb\n",
        "      newsent = w1 + \" \" + nsubj + \" \" + pred[:-1] + \"?\"\n",
        "      mytext = \"I'll make it to a yes-no question: \" + newsent\n",
        "      print(\"Yes-no question: \", newsent)\n",
        "  elif cat1[0] not in pronouns and cat1[0] in names:\n",
        "        b = result[1]\n",
        "        be = \" \"+b+\" \"\n",
        "        ss = sentence.split(be)\n",
        "        subj = ss[0]\n",
        "        pred = ss[1]\n",
        "        w1 = b[0].upper() + b[1:] # Capitalized be verb\n",
        "        newsent = w1 + \" \" + subj + \" \" + pred[:-1] + \"?\"\n",
        "        mytext = \"I'll make it to a yes-no question: \" + newsent\n",
        "        print(\"Yes-no question: \", newsent)\n",
        "  elif cat1[0] not in pronouns and cat1[0] not in names:\n",
        "        b = result[1]\n",
        "        be = \" \"+b+\" \"\n",
        "        ss = sentence.split(be)\n",
        "        subj = ss[0]\n",
        "        nsubj = subj[0].lower()+subj[1:]\n",
        "        pred = ss[1]\n",
        "        w1 = b[0].upper() + b[1:] # Capitalized be verb\n",
        "        newsent = w1 + \" \" + nsubj + \" \" + pred[:-1] + \"?\"\n",
        "        mytext = \"I'll make it to a yes-no question: \" + newsent\n",
        "        print(\"Yes-no question: \", newsent)\n",
        "\n",
        "else:\n",
        "    mytext = \"The sentence you\\' provided does not contain a 'Be' verb. Try again.\"\n",
        "    print(\"Type a sentence that contains a be verb.\")\n",
        "\n",
        "etts(mytext)\n",
        "Audio(\"E-audio.mp3\",autoplay=True)"
      ],
      "metadata": {
        "cellView": "form",
        "id": "ZjPSWFub-55P",
        "colab": {
          "base_uri": "https://localhost:8080/",
          "height": 129
        },
        "outputId": "7bfe6621-7afd-440c-b612-f85d249e0600"
      },
      "execution_count": 5,
      "outputs": [
        {
          "output_type": "stream",
          "name": "stdout",
          "text": [
            "Type a sentence containing a be verb: e.g., I am a students.\n",
            "Your name is John.\n",
            "Yes-no question:  Is your name John?\n"
          ]
        },
        {
          "output_type": "execute_result",
          "data": {
            "text/plain": [
              "<IPython.lib.display.Audio object>"
            ],
            "text/html": [
              "\n",
              "                <audio  controls=\"controls\" autoplay=\"autoplay\">\n",
              "                    <source src=\"data:audio/mpeg;base64,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\" type=\"audio/mpeg\" />\n",
              "                    Your browser does not support the audio element.\n",
              "                </audio>\n",
              "              "
            ]
          },
          "metadata": {},
          "execution_count": 5
        }
      ]
    },
    {
      "cell_type": "markdown",
      "source": [
        "## 💦**Demo 3: Story game**"
      ],
      "metadata": {
        "id": "UG0_f0gJQl1r"
      }
    },
    {
      "cell_type": "code",
      "source": [
        "#@markdown Adventure game with reading\n",
        "print(\"Welcome to the adventure game!\")\n",
        "print(\"=\"*50)\n",
        "print(\"You are a high school student who has been chosen to embark on a quest to save your town from a mysterious curse.\")\n",
        "print(\"You will face various challenges and choices along the way, and your decisions will determine the outcome of the story.\")\n",
        "print(\"=\"*50)\n",
        "name = input(\"What is your name? \")\n",
        "print(\"=\"*50)\n",
        "print(f\"Nice to meet you, {name}! Are you ready to begin?\")\n",
        "print(\"=\"*50)\n",
        "# Start of the story\n",
        "print(\"You wake up one morning to find that your town is covered in a thick fog.\")\n",
        "print(\"People are starting to get sick, and strange things are happening.\")\n",
        "print(\"You decide to investigate and find out that a curse has been cast upon the town.\")\n",
        "print(\"You meet a wise old sage who tells you that the only way to lift the curse is to find a magical artifact that is hidden in a dangerous dungeon.\")\n",
        "print(\"=\"*50)\n",
        "# First choice\n",
        "print(\"You have two options:\")\n",
        "print(\"Option 1: Search for clues in the town.\")\n",
        "print(\"Option 2: Go straight to the dungeon.\")\n",
        "print(\"=\"*50)\n",
        "choice = input(\"Which option do you choose? (1 or 2) \")\n",
        "print(\"=\"*50)\n",
        "if choice == \"1\":\n",
        "    print(\"You spend the day talking to townspeople and searching for clues.\")\n",
        "    print(\"You find a cryptic message that leads you to a hidden cave.\")\n",
        "elif choice == \"2\":\n",
        "    print(\"You journey to the dungeon and face many dangers along the way.\")\n",
        "    print(\"You eventually reach the entrance to the dungeon.\")\n",
        "print(\"=\"*50)\n",
        "# Second choice\n",
        "print(\"You have two options:\")\n",
        "print(\"Option 1: Enter the cave.\")\n",
        "print(\"Option 2: Enter the dungeon.\")\n",
        "print(\"=\"*50)\n",
        "choice = input(\"Which option do you choose? (1 or 2) \")\n",
        "print(\"=\"*50)\n",
        "if choice == \"1\":\n",
        "    print(\"=\"*50)\n",
        "    print(\"You enter the cave and find the magical artifact!\")\n",
        "    print(\"You bring it back to the town and the curse is lifted.\")\n",
        "    print(\"Congratulations! You have saved the town!\")\n",
        "    print(\"=\"*50)\n",
        "elif choice == \"2\":\n",
        "    print(\"=\"*50)\n",
        "    print(\"You enter the dungeon and face many challenges.\")\n",
        "    print(\"You eventually find the magical artifact, but it is guarded by a powerful monster.\")\n",
        "    print(\"You must defeat the monster to retrieve the artifact.\")\n",
        "    print(\"You engage in a fierce battle!\")\n",
        "    print(\"You lost the battle and the curse remains.\")\n",
        "    print(\"Brave You! Though the curse remains, people appreicate your effort.\")\n",
        "    print(\"=\"*50)\n"
      ],
      "metadata": {
        "cellView": "form",
        "id": "qBAUNW9qP75J",
        "colab": {
          "base_uri": "https://localhost:8080/"
        },
        "outputId": "ba2c4e54-579f-45d6-be1d-b0a7ad1b3e8f"
      },
      "execution_count": 7,
      "outputs": [
        {
          "output_type": "stream",
          "name": "stdout",
          "text": [
            "Welcome to the adventure game!\n",
            "==================================================\n",
            "You are a high school student who has been chosen to embark on a quest to save your town from a mysterious curse.\n",
            "You will face various challenges and choices along the way, and your decisions will determine the outcome of the story.\n",
            "==================================================\n",
            "What is your name? John\n",
            "==================================================\n",
            "Nice to meet you, John! Are you ready to begin?\n",
            "==================================================\n",
            "You wake up one morning to find that your town is covered in a thick fog.\n",
            "People are starting to get sick, and strange things are happening.\n",
            "You decide to investigate and find out that a curse has been cast upon the town.\n",
            "You meet a wise old sage who tells you that the only way to lift the curse is to find a magical artifact that is hidden in a dangerous dungeon.\n",
            "==================================================\n",
            "You have two options:\n",
            "Option 1: Search for clues in the town.\n",
            "Option 2: Go straight to the dungeon.\n",
            "==================================================\n",
            "Which option do you choose? (1 or 2) 2\n",
            "==================================================\n",
            "You journey to the dungeon and face many dangers along the way.\n",
            "You eventually reach the entrance to the dungeon.\n",
            "==================================================\n",
            "You have two options:\n",
            "Option 1: Enter the cave.\n",
            "Option 2: Enter the dungeon.\n",
            "==================================================\n",
            "Which option do you choose? (1 or 2) 2\n",
            "==================================================\n",
            "==================================================\n",
            "You enter the dungeon and face many challenges.\n",
            "You eventually find the magical artifact, but it is guarded by a powerful monster.\n",
            "You must defeat the monster to retrieve the artifact.\n",
            "You engage in a fierce battle!\n",
            "You lost the battle and the curse remains.\n",
            "Brave You! Though the curse remains, people appreicate your effort.\n",
            "==================================================\n"
          ]
        }
      ]
    },
    {
      "cell_type": "code",
      "source": [
        "#@markdown Story game with listening (audio)\n",
        "from gtts import gTTS\n",
        "import IPython.display as ipd\n",
        "\n",
        "def play_audio(text):\n",
        "    language = 'en'\n",
        "    audio = gTTS(text=text, lang=language, slow=False)\n",
        "    audio.save(\"audio.mp3\")\n",
        "    ipd.display(ipd.Audio(\"audio.mp3\", autoplay=True))\n",
        "\n",
        "# Introduction\n",
        "play_audio(\"Welcome to the story game. You are walking home from school when you hear footsteps behind you. You look back and see a shady figure in the distance. What do you do?\")\n",
        "ipd.clear_output(wait=True)\n",
        "input(\"Press Enter to continue...\")\n",
        "\n",
        "# Stage 1\n",
        "play_audio(\"You decide to run. Do you run towards the park or towards the busy street?\")\n",
        "ipd.clear_output(wait=True)\n",
        "choice = input(\"Enter 1 to run towards the park, or 2 to run towards the busy street: \")\n",
        "if choice == \"1\":\n",
        "    play_audio(\"You run towards the park and manage to lose the shady figure. You continue walking home and make it back safely.\")\n",
        "elif choice == \"2\":\n",
        "    play_audio(\"You run towards the busy street, hoping to find someone to help you. As you get closer, you realize that the figure is a police officer. You stop and explain what happened, and the officer escorts you home safely.\")\n",
        "ipd.clear_output(wait=True)\n",
        "input(\"Press Enter to continue...\")\n",
        "\n",
        "# Stage 2\n",
        "play_audio(\"You arrive home and find that your front door is slightly open. Do you go inside or call the police?\")\n",
        "ipd.clear_output(wait=True)\n",
        "choice = input(\"Enter 1 to go inside, or 2 to call the police: \")\n",
        "if choice == \"1\":\n",
        "    play_audio(\"You cautiously enter your home and find that everything is as you left it. You breathe a sigh of relief and go about your evening.\")\n",
        "elif choice == \"2\":\n",
        "    play_audio(\"You call the police and they arrive shortly after. They search your home and find no one inside. You spend the night at a friend's house and return home the next day.\")\n",
        "ipd.clear_output(wait=True)\n",
        "input(\"Press Enter to continue...\")\n",
        "\n",
        "# Conclusion\n",
        "play_audio(\"Good choice! you have successfully made it home safely. Thanks for playing!\")\n",
        "ipd.clear_output(wait=True)\n"
      ],
      "metadata": {
        "id": "mx_BDEl-TqLe",
        "colab": {
          "base_uri": "https://localhost:8080/",
          "height": 401
        },
        "outputId": "6c3761e4-4d60-4adb-e9aa-0121e9c5fbc3"
      },
      "execution_count": 8,
      "outputs": [
        {
          "output_type": "error",
          "ename": "KeyboardInterrupt",
          "evalue": "ignored",
          "traceback": [
            "\u001b[0;31m---------------------------------------------------------------------------\u001b[0m",
            "\u001b[0;31mKeyboardInterrupt\u001b[0m                         Traceback (most recent call last)",
            "\u001b[0;32m<ipython-input-8-8cc5e82b49df>\u001b[0m in \u001b[0;36m<cell line: 14>\u001b[0;34m()\u001b[0m\n\u001b[1;32m     12\u001b[0m \u001b[0mplay_audio\u001b[0m\u001b[0;34m(\u001b[0m\u001b[0;34m\"Welcome to the story game. You are walking home from school when you hear footsteps behind you. You look back and see a shady figure in the distance. What do you do?\"\u001b[0m\u001b[0;34m)\u001b[0m\u001b[0;34m\u001b[0m\u001b[0;34m\u001b[0m\u001b[0m\n\u001b[1;32m     13\u001b[0m \u001b[0mipd\u001b[0m\u001b[0;34m.\u001b[0m\u001b[0mclear_output\u001b[0m\u001b[0;34m(\u001b[0m\u001b[0mwait\u001b[0m\u001b[0;34m=\u001b[0m\u001b[0;32mTrue\u001b[0m\u001b[0;34m)\u001b[0m\u001b[0;34m\u001b[0m\u001b[0;34m\u001b[0m\u001b[0m\n\u001b[0;32m---> 14\u001b[0;31m \u001b[0minput\u001b[0m\u001b[0;34m(\u001b[0m\u001b[0;34m\"Press Enter to continue...\"\u001b[0m\u001b[0;34m)\u001b[0m\u001b[0;34m\u001b[0m\u001b[0;34m\u001b[0m\u001b[0m\n\u001b[0m\u001b[1;32m     15\u001b[0m \u001b[0;34m\u001b[0m\u001b[0m\n\u001b[1;32m     16\u001b[0m \u001b[0;31m# Stage 1\u001b[0m\u001b[0;34m\u001b[0m\u001b[0;34m\u001b[0m\u001b[0m\n",
            "\u001b[0;32m/usr/local/lib/python3.9/dist-packages/ipykernel/kernelbase.py\u001b[0m in \u001b[0;36mraw_input\u001b[0;34m(self, prompt)\u001b[0m\n\u001b[1;32m    849\u001b[0m                 \u001b[0;34m\"raw_input was called, but this frontend does not support input requests.\"\u001b[0m\u001b[0;34m\u001b[0m\u001b[0;34m\u001b[0m\u001b[0m\n\u001b[1;32m    850\u001b[0m             )\n\u001b[0;32m--> 851\u001b[0;31m         return self._input_request(str(prompt),\n\u001b[0m\u001b[1;32m    852\u001b[0m             \u001b[0mself\u001b[0m\u001b[0;34m.\u001b[0m\u001b[0m_parent_ident\u001b[0m\u001b[0;34m,\u001b[0m\u001b[0;34m\u001b[0m\u001b[0;34m\u001b[0m\u001b[0m\n\u001b[1;32m    853\u001b[0m             \u001b[0mself\u001b[0m\u001b[0;34m.\u001b[0m\u001b[0m_parent_header\u001b[0m\u001b[0;34m,\u001b[0m\u001b[0;34m\u001b[0m\u001b[0;34m\u001b[0m\u001b[0m\n",
            "\u001b[0;32m/usr/local/lib/python3.9/dist-packages/ipykernel/kernelbase.py\u001b[0m in \u001b[0;36m_input_request\u001b[0;34m(self, prompt, ident, parent, password)\u001b[0m\n\u001b[1;32m    893\u001b[0m             \u001b[0;32mexcept\u001b[0m \u001b[0mKeyboardInterrupt\u001b[0m\u001b[0;34m:\u001b[0m\u001b[0;34m\u001b[0m\u001b[0;34m\u001b[0m\u001b[0m\n\u001b[1;32m    894\u001b[0m                 \u001b[0;31m# re-raise KeyboardInterrupt, to truncate traceback\u001b[0m\u001b[0;34m\u001b[0m\u001b[0;34m\u001b[0m\u001b[0m\n\u001b[0;32m--> 895\u001b[0;31m                 \u001b[0;32mraise\u001b[0m \u001b[0mKeyboardInterrupt\u001b[0m\u001b[0;34m(\u001b[0m\u001b[0;34m\"Interrupted by user\"\u001b[0m\u001b[0;34m)\u001b[0m \u001b[0;32mfrom\u001b[0m \u001b[0;32mNone\u001b[0m\u001b[0;34m\u001b[0m\u001b[0;34m\u001b[0m\u001b[0m\n\u001b[0m\u001b[1;32m    896\u001b[0m             \u001b[0;32mexcept\u001b[0m \u001b[0mException\u001b[0m \u001b[0;32mas\u001b[0m \u001b[0me\u001b[0m\u001b[0;34m:\u001b[0m\u001b[0;34m\u001b[0m\u001b[0;34m\u001b[0m\u001b[0m\n\u001b[1;32m    897\u001b[0m                 \u001b[0mself\u001b[0m\u001b[0;34m.\u001b[0m\u001b[0mlog\u001b[0m\u001b[0;34m.\u001b[0m\u001b[0mwarning\u001b[0m\u001b[0;34m(\u001b[0m\u001b[0;34m\"Invalid Message:\"\u001b[0m\u001b[0;34m,\u001b[0m \u001b[0mexc_info\u001b[0m\u001b[0;34m=\u001b[0m\u001b[0;32mTrue\u001b[0m\u001b[0;34m)\u001b[0m\u001b[0;34m\u001b[0m\u001b[0;34m\u001b[0m\u001b[0m\n",
            "\u001b[0;31mKeyboardInterrupt\u001b[0m: Interrupted by user"
          ]
        }
      ]
    },
    {
      "cell_type": "markdown",
      "source": [
        "---\n",
        "# 📙Concepts and elements to cover for our goal:\n",
        "\n",
        "0. Importing modules: Explain how to import a module (like random) and use its functions (like random.shuffle()).\n",
        "\n",
        "1. Python basics: Basic data types (strings, integers, lists, dictionaries), variables, and basic input/output functions (like print() and input()).\n",
        "\n",
        "2. String manipulation: Cover string methods like .strip() and .lower().\n",
        "3. Control structures: Introduce for loops, while loops, and conditional statements (if, elif, else).\n",
        "\n",
        "4. Functions: Explain how to define and use functions, including function parameters. \n",
        "\n",
        "5. F-strings: Introduce f-strings (formatted string literals) and how to embed expressions inside string literals using curly braces {}.\n",
        "---"
      ],
      "metadata": {
        "id": "2VMRdKbJwOsk"
      }
    },
    {
      "cell_type": "markdown",
      "source": [
        "# [0] Importing modules\n",
        "\n",
        "1. **function, (class), module, package, and library**\n",
        "\n",
        "> (class) > functions\n",
        "\n",
        "\n",
        "2. Let's use the analogy of a toolbox: \n",
        "\n",
        "+ **a module** is a single tool, (e.g., random) \n",
        "+ **a package** is a toolbox containing multiple tools (e.g., gTTS)\n",
        "+ **a library** is a set of toolboxes designed for a specific purpose. (e.g., nltk - Natural Language Tool Kit) _>> Next time_"
      ],
      "metadata": {
        "id": "wgZEzhkQwzc3"
      }
    },
    {
      "cell_type": "markdown",
      "source": [
        "##A. 'gTTS' package"
      ],
      "metadata": {
        "id": "298wKG9q7-rN"
      }
    },
    {
      "cell_type": "code",
      "source": [
        "!pip install gtts\n",
        "!pip install IPython\n",
        "from gtts import gTTS\n",
        "from IPython.display import Audio, display"
      ],
      "metadata": {
        "id": "YLCRqNbW8E9J"
      },
      "execution_count": null,
      "outputs": []
    },
    {
      "cell_type": "code",
      "source": [
        "#@markdown etts(), ktts()\n",
        "def etts(text):\n",
        "  text_to_say = text\n",
        "\n",
        "  gtts_object = gTTS(text = text_to_say,\n",
        "                     lang = \"en\",\n",
        "                    slow = False)\n",
        "  \n",
        "  gtts_object.save(\"E-audio.mp3\")\n",
        "  return Audio(\"E-audio.mp3\")\n",
        "\n",
        "def ktts(text):\n",
        "  text_to_say = text\n",
        "\n",
        "  gtts_object = gTTS(text = text_to_say,\n",
        "                     lang = \"ko\",\n",
        "                    slow = False)\n",
        "  \n",
        "  gtts_object.save(\"K-audio.mp3\")\n",
        "  return Audio(\"K-audio.mp3\")"
      ],
      "metadata": {
        "id": "bYDfENzGRUFb"
      },
      "execution_count": null,
      "outputs": []
    },
    {
      "cell_type": "markdown",
      "source": [
        "## B. 'random' module\n",
        "\n",
        "[Random Picker App using 'random'](https://github.com/MK316/Spring2023/blob/main/RandomPickerS23.ipynb)"
      ],
      "metadata": {
        "id": "vSFe_Umb68o9"
      }
    },
    {
      "cell_type": "code",
      "source": [
        "import random"
      ],
      "metadata": {
        "id": "t8tYICF_1Yx8"
      },
      "execution_count": 9,
      "outputs": []
    },
    {
      "cell_type": "markdown",
      "source": [
        "Return a number between 3 and 9 (both included):"
      ],
      "metadata": {
        "id": "RlWQ5dXark-r"
      }
    },
    {
      "cell_type": "code",
      "source": [
        "random.randint(1, 10) #random.randint(x,y)는 함수이므로 문법대로 사용해야 함."
      ],
      "metadata": {
        "colab": {
          "base_uri": "https://localhost:8080/"
        },
        "id": "sMf1Ow7W11EZ",
        "outputId": "66c1da8f-42d5-4817-c7cb-50d74c42d4ad"
      },
      "execution_count": 11,
      "outputs": [
        {
          "output_type": "execute_result",
          "data": {
            "text/plain": [
              "1"
            ]
          },
          "metadata": {},
          "execution_count": 11
        }
      ]
    },
    {
      "cell_type": "code",
      "source": [
        "a1 = random.randint(1, 10)\n",
        "a1*10  #변수를 이용하면 결과값을 이용한 다른 연산이나 작업이 가능하다."
      ],
      "metadata": {
        "colab": {
          "base_uri": "https://localhost:8080/"
        },
        "id": "WUVN9-Rs825s",
        "outputId": "835ca900-56fc-4fc1-a7cb-354c3a0c4bc0"
      },
      "execution_count": 12,
      "outputs": [
        {
          "output_type": "execute_result",
          "data": {
            "text/plain": [
              "20"
            ]
          },
          "metadata": {},
          "execution_count": 12
        }
      ]
    },
    {
      "cell_type": "markdown",
      "source": [
        "# [1] Python basics: \n",
        "\n",
        "+ Basic data types (strings, integers, lists, dictionaries), \n",
        "+ variables, \n",
        "+ basic input/output functions (like print() and input()).\n",
        "\n"
      ],
      "metadata": {
        "id": "_vTm-kXl8qa_"
      }
    },
    {
      "cell_type": "markdown",
      "source": [
        "## [1-1] Basic data types"
      ],
      "metadata": {
        "id": "qaQ0_hkoENRX"
      }
    },
    {
      "cell_type": "markdown",
      "source": [
        "### A. strings"
      ],
      "metadata": {
        "id": "HB86s1k990Hh"
      }
    },
    {
      "cell_type": "code",
      "source": [
        "a2 = \"Welcome\"\n",
        "a3 = \"2023\""
      ],
      "metadata": {
        "id": "L_OImwSL94Kr"
      },
      "execution_count": null,
      "outputs": []
    },
    {
      "cell_type": "markdown",
      "source": [
        "☺️ DIY: How to get \"Welcome, 2023!\""
      ],
      "metadata": {
        "id": "wkYUBwu1-IvG"
      }
    },
    {
      "cell_type": "code",
      "source": [],
      "metadata": {
        "id": "XZ2LHJcl9_u4",
        "outputId": "f6b592bd-8a7f-4b62-e14f-f97e80cdece8",
        "colab": {
          "base_uri": "https://localhost:8080/",
          "height": 35
        }
      },
      "execution_count": null,
      "outputs": [
        {
          "output_type": "execute_result",
          "data": {
            "text/plain": [
              "'Welcome, 2023!'"
            ],
            "application/vnd.google.colaboratory.intrinsic+json": {
              "type": "string"
            }
          },
          "metadata": {},
          "execution_count": 20
        }
      ]
    },
    {
      "cell_type": "markdown",
      "source": [
        "☺️ DIY: Let a4 = \"화이팅\", and get '화이팅화이팅화이팅화이팅화이팅화이팅화이팅화이팅화이팅화이팅'(10번)"
      ],
      "metadata": {
        "id": "WNaHBznU-yEd"
      }
    },
    {
      "cell_type": "code",
      "source": [],
      "metadata": {
        "id": "0vfPcih3-xg4",
        "outputId": "be3891a2-8eba-4f0b-a31b-9e0ed445871a",
        "colab": {
          "base_uri": "https://localhost:8080/",
          "height": 35
        }
      },
      "execution_count": null,
      "outputs": [
        {
          "output_type": "execute_result",
          "data": {
            "text/plain": [
              "'화이팅화이팅화이팅화이팅화이팅화이팅화이팅화이팅화이팅화이팅'"
            ],
            "application/vnd.google.colaboratory.intrinsic+json": {
              "type": "string"
            }
          },
          "metadata": {},
          "execution_count": 21
        }
      ]
    },
    {
      "cell_type": "code",
      "source": [
        "type(a2). # data type of the variable a2"
      ],
      "metadata": {
        "colab": {
          "base_uri": "https://localhost:8080/"
        },
        "id": "1XroWNyGADZU",
        "outputId": "05a0322b-a18c-401f-8aa2-ec8a7975d907"
      },
      "execution_count": null,
      "outputs": [
        {
          "output_type": "execute_result",
          "data": {
            "text/plain": [
              "str"
            ]
          },
          "metadata": {},
          "execution_count": 22
        }
      ]
    },
    {
      "cell_type": "markdown",
      "source": [
        "###B. Integers, float"
      ],
      "metadata": {
        "id": "kpNXrqZ2_9I2"
      }
    },
    {
      "cell_type": "code",
      "source": [
        "x1 = 45; y1 = 0.5\n",
        "x1 * y1"
      ],
      "metadata": {
        "colab": {
          "base_uri": "https://localhost:8080/"
        },
        "id": "CEs2BHNbAB1Q",
        "outputId": "e63af813-d7ca-422b-91d2-75a50ef4564e"
      },
      "execution_count": null,
      "outputs": [
        {
          "output_type": "execute_result",
          "data": {
            "text/plain": [
              "22.5"
            ]
          },
          "metadata": {},
          "execution_count": 23
        }
      ]
    },
    {
      "cell_type": "code",
      "source": [],
      "metadata": {
        "id": "2WarI3IQsRJX",
        "outputId": "8304e3e2-9753-45f0-adb6-b2da469a304a",
        "colab": {
          "base_uri": "https://localhost:8080/"
        }
      },
      "execution_count": null,
      "outputs": [
        {
          "output_type": "execute_result",
          "data": {
            "text/plain": [
              "float"
            ]
          },
          "metadata": {},
          "execution_count": 24
        }
      ]
    },
    {
      "cell_type": "markdown",
      "source": [
        "### C. List datatype"
      ],
      "metadata": {
        "id": "S7PJcJFkBO46"
      }
    },
    {
      "cell_type": "code",
      "source": [
        "x2 = [1,2,3]\n",
        "x2"
      ],
      "metadata": {
        "colab": {
          "base_uri": "https://localhost:8080/"
        },
        "id": "LjSEH6lABR98",
        "outputId": "eb284b7f-40ef-48c5-ea6f-926543a1ee7b"
      },
      "execution_count": null,
      "outputs": [
        {
          "output_type": "execute_result",
          "data": {
            "text/plain": [
              "[1, 2, 3]"
            ]
          },
          "metadata": {},
          "execution_count": 26
        }
      ]
    },
    {
      "cell_type": "markdown",
      "source": [
        "x2[index]: Python index starts from 0"
      ],
      "metadata": {
        "id": "xcPyj0Fesdiu"
      }
    },
    {
      "cell_type": "code",
      "source": [
        "x2[0]"
      ],
      "metadata": {
        "id": "VGWl1av6BYGu"
      },
      "execution_count": null,
      "outputs": []
    },
    {
      "cell_type": "code",
      "source": [
        "# range(x,y)\n",
        "x3 = range(1,10)\n",
        "list(x3)  #list(), range(1,10)"
      ],
      "metadata": {
        "colab": {
          "base_uri": "https://localhost:8080/"
        },
        "id": "WNmjoCQ1ANr4",
        "outputId": "9e1cf838-bd7f-47f5-def6-731599ef24a5"
      },
      "execution_count": null,
      "outputs": [
        {
          "output_type": "execute_result",
          "data": {
            "text/plain": [
              "[1, 2, 3, 4, 5, 6, 7, 8, 9]"
            ]
          },
          "metadata": {},
          "execution_count": 28
        }
      ]
    },
    {
      "cell_type": "code",
      "source": [
        "x4 = \"John\"\n",
        "list(x4)"
      ],
      "metadata": {
        "colab": {
          "base_uri": "https://localhost:8080/"
        },
        "id": "amRP-ytuBlO6",
        "outputId": "a8eeef49-a6aa-4452-f9e2-d933278c0bdc"
      },
      "execution_count": null,
      "outputs": [
        {
          "output_type": "execute_result",
          "data": {
            "text/plain": [
              "['J', 'o', 'h', 'n']"
            ]
          },
          "metadata": {},
          "execution_count": 29
        }
      ]
    },
    {
      "cell_type": "markdown",
      "source": [
        "###D. Dictionary datatype: {'key':'value'}\n",
        "\n",
        "In Python, a dictionary is a built-in data type that represents a collection of key-value pairs. Each key-value pair in a dictionary is separated by a colon (:), and each pair is separated by a comma. "
      ],
      "metadata": {
        "id": "ZoyOSN_QCCdO"
      }
    },
    {
      "cell_type": "code",
      "source": [
        "mydict = {\"API\":\"Application Programming Interface\", \"GPT\":\"Generative Pretrained Transformer\"}\n",
        "mydict['API']"
      ],
      "metadata": {
        "colab": {
          "base_uri": "https://localhost:8080/",
          "height": 35
        },
        "id": "PdRkfL3JBMWK",
        "outputId": "0e165aee-8079-4359-c38e-64e33c14c9ac"
      },
      "execution_count": null,
      "outputs": [
        {
          "output_type": "execute_result",
          "data": {
            "text/plain": [
              "'Application Programming Interface'"
            ],
            "application/vnd.google.colaboratory.intrinsic+json": {
              "type": "string"
            }
          },
          "metadata": {},
          "execution_count": 30
        }
      ]
    },
    {
      "cell_type": "code",
      "source": [
        "mydict['GPT']"
      ],
      "metadata": {
        "id": "muVfPouBs47b",
        "outputId": "1d08be3c-9e45-4a57-c0e4-1d7ff7368986",
        "colab": {
          "base_uri": "https://localhost:8080/",
          "height": 35
        }
      },
      "execution_count": null,
      "outputs": [
        {
          "output_type": "execute_result",
          "data": {
            "text/plain": [
              "'Generative Pretrained Transformer'"
            ],
            "application/vnd.google.colaboratory.intrinsic+json": {
              "type": "string"
            }
          },
          "metadata": {},
          "execution_count": 31
        }
      ]
    },
    {
      "cell_type": "code",
      "source": [
        "class_size = {\"Class A\": 25, \"Class B\": 30, \"Class C\": 32}\n",
        "class_size['Class C']"
      ],
      "metadata": {
        "colab": {
          "base_uri": "https://localhost:8080/"
        },
        "id": "WBs-NrEJDQRC",
        "outputId": "6c9a6b9f-6471-4424-a133-d47bb0d08f8c"
      },
      "execution_count": null,
      "outputs": [
        {
          "output_type": "execute_result",
          "data": {
            "text/plain": [
              "32"
            ]
          },
          "metadata": {},
          "execution_count": 32
        }
      ]
    },
    {
      "cell_type": "markdown",
      "source": [
        "## [1-2] Variables"
      ],
      "metadata": {
        "id": "0m_ux_SoEUos"
      }
    },
    {
      "cell_type": "markdown",
      "source": [
        "## [1-3] input/output functions"
      ],
      "metadata": {
        "id": "YUasz63dEYAX"
      }
    },
    {
      "cell_type": "code",
      "source": [
        "mynumber = 2\n",
        "mynumber"
      ],
      "metadata": {
        "colab": {
          "base_uri": "https://localhost:8080/"
        },
        "id": "BSp7TWkeEfmz",
        "outputId": "3bcd84d2-c721-4bc7-da68-a245706b8b5c"
      },
      "execution_count": null,
      "outputs": [
        {
          "output_type": "execute_result",
          "data": {
            "text/plain": [
              "2"
            ]
          },
          "metadata": {},
          "execution_count": 87
        }
      ]
    },
    {
      "cell_type": "code",
      "source": [
        "yournumber = input()  # In Python, input() is a built-in function that allows you to get user input from the keyboard. \n",
        "yournumber"
      ],
      "metadata": {
        "colab": {
          "base_uri": "https://localhost:8080/",
          "height": 53
        },
        "id": "6LZudH_0En_w",
        "outputId": "783d5cc3-75a8-465a-963e-b294e0816f0a"
      },
      "execution_count": null,
      "outputs": [
        {
          "name": "stdout",
          "output_type": "stream",
          "text": [
            "4\n"
          ]
        },
        {
          "output_type": "execute_result",
          "data": {
            "text/plain": [
              "'4'"
            ],
            "application/vnd.google.colaboratory.intrinsic+json": {
              "type": "string"
            }
          },
          "metadata": {},
          "execution_count": 33
        }
      ]
    },
    {
      "cell_type": "markdown",
      "source": [
        "☺️ After running the code below, can you tell what the resulting output means?"
      ],
      "metadata": {
        "id": "-Z1mQqzlH4k5"
      }
    },
    {
      "cell_type": "code",
      "source": [
        "yournumber*5"
      ],
      "metadata": {
        "colab": {
          "base_uri": "https://localhost:8080/",
          "height": 35
        },
        "id": "5cGgSs3qHxG_",
        "outputId": "61f4269a-ed03-4cae-f717-7f70b0c34f76"
      },
      "execution_count": null,
      "outputs": [
        {
          "output_type": "execute_result",
          "data": {
            "text/plain": [
              "'44444'"
            ],
            "application/vnd.google.colaboratory.intrinsic+json": {
              "type": "string"
            }
          },
          "metadata": {},
          "execution_count": 34
        }
      ]
    },
    {
      "cell_type": "code",
      "source": [
        "type(yournumber)"
      ],
      "metadata": {
        "colab": {
          "base_uri": "https://localhost:8080/"
        },
        "id": "664rKEalISSY",
        "outputId": "5314bd92-1d93-4d40-d399-b18d7d3b8930"
      },
      "execution_count": null,
      "outputs": [
        {
          "output_type": "execute_result",
          "data": {
            "text/plain": [
              "str"
            ]
          },
          "metadata": {},
          "execution_count": 35
        }
      ]
    },
    {
      "cell_type": "code",
      "source": [
        "yournumber = int(yournumber) # changing the type of the value to integer\n",
        "type(yournumber)"
      ],
      "metadata": {
        "colab": {
          "base_uri": "https://localhost:8080/"
        },
        "id": "u_ocEyoAIVC4",
        "outputId": "cae55304-aabb-4b25-bf49-c0c051815f76"
      },
      "execution_count": null,
      "outputs": [
        {
          "output_type": "execute_result",
          "data": {
            "text/plain": [
              "int"
            ]
          },
          "metadata": {},
          "execution_count": 36
        }
      ]
    },
    {
      "cell_type": "markdown",
      "source": [
        "Getting output:"
      ],
      "metadata": {
        "id": "Z9Kzd8ZW7Bri"
      }
    },
    {
      "cell_type": "code",
      "source": [
        "# print() 함수 배우기\n",
        "print(\"대한민국\")\n",
        "\n",
        "a2 = \"화이팅!\"  # a1: variable(변수)\n",
        "print(a2)\n",
        "print(a2*10)\n",
        "print(\"화이팅 10번 합시다: \", a2*10)\n",
        "a2"
      ],
      "metadata": {
        "id": "aQXDo7u-4-18",
        "outputId": "d02c1b36-7980-4293-8168-c3d350b08205",
        "colab": {
          "base_uri": "https://localhost:8080/",
          "height": 105
        }
      },
      "execution_count": null,
      "outputs": [
        {
          "output_type": "stream",
          "name": "stdout",
          "text": [
            "대한민국\n",
            "화이팅!\n",
            "화이팅!화이팅!화이팅!화이팅!화이팅!화이팅!화이팅!화이팅!화이팅!화이팅!\n",
            "화이팅 10번 합시다:  화이팅!화이팅!화이팅!화이팅!화이팅!화이팅!화이팅!화이팅!화이팅!화이팅!\n"
          ]
        },
        {
          "output_type": "execute_result",
          "data": {
            "text/plain": [
              "'화이팅!'"
            ],
            "application/vnd.google.colaboratory.intrinsic+json": {
              "type": "string"
            }
          },
          "metadata": {},
          "execution_count": 37
        }
      ]
    },
    {
      "cell_type": "code",
      "source": [
        "print(a2)\n",
        "print(\"=\"*30)\n",
        "a1=random.randint(1,10)\n",
        "print(\"Random integer between 1 and 10:\", a1)"
      ],
      "metadata": {
        "colab": {
          "base_uri": "https://localhost:8080/"
        },
        "id": "0jdQu65F2ZWw",
        "outputId": "3a5d1c38-1e5a-4df4-8b8a-e7d3b08ce48b"
      },
      "execution_count": null,
      "outputs": [
        {
          "output_type": "stream",
          "name": "stdout",
          "text": [
            "화이팅!\n",
            "==============================\n",
            "Random integer between 1 and 10: 7\n"
          ]
        }
      ]
    },
    {
      "cell_type": "markdown",
      "source": [
        "☺️DIY: \n",
        "**Q: John and Mary have been together for many days. Ask Mary how many days it has been since she met John. Then you tell Mary how many hours it has been since she met John.**\n",
        "\n",
        "1. Set the variable 'day' to 24\n",
        "2. Set the variable 'num_day' for the input from the user. Get a number (number of days) from the user using input() function\n",
        "2. Calculate days to hours: set the variable 'hours' to the final result."
      ],
      "metadata": {
        "id": "cvkWAvetFtSP"
      }
    },
    {
      "cell_type": "code",
      "source": [
        "day = \n",
        "num_day = \n",
        "hours = \n",
        "print(\"The total hours passed since Mary met John are: \", hours, \"hours.\")"
      ],
      "metadata": {
        "id": "Fdezo9WD1zju",
        "outputId": "174b66de-637f-420b-f218-3dbcf86e8f5b",
        "colab": {
          "base_uri": "https://localhost:8080/"
        }
      },
      "execution_count": null,
      "outputs": [
        {
          "output_type": "stream",
          "name": "stdout",
          "text": [
            "How many days? 23\n",
            "The total hours passed since Mary met John are:  552 hours.\n"
          ]
        }
      ]
    },
    {
      "cell_type": "markdown",
      "source": [
        "#[2] String manipulation: strip() and .lower().\n",
        "\n"
      ],
      "metadata": {
        "id": "zzkVAfU61HDk"
      }
    },
    {
      "cell_type": "markdown",
      "source": [
        "### **data.strip()**\n",
        "\n",
        "+ In Python, strip() is a built-in string method that returns a copy of the string with leading and trailing characters removed. \n",
        "+ By default, strip() removes whitespace characters such as spaces, tabs, and newlines from the beginning and end of the string."
      ],
      "metadata": {
        "id": "sSi_PvE5LTeC"
      }
    },
    {
      "cell_type": "code",
      "source": [
        "w1 = \" Mary is friendly. \"\n",
        "w1"
      ],
      "metadata": {
        "colab": {
          "base_uri": "https://localhost:8080/",
          "height": 35
        },
        "id": "IUtU-qG81XIt",
        "outputId": "e220311b-615a-4482-fcf3-989e2bcf0a26"
      },
      "execution_count": null,
      "outputs": [
        {
          "output_type": "execute_result",
          "data": {
            "text/plain": [
              "' Mary is friendly. '"
            ],
            "application/vnd.google.colaboratory.intrinsic+json": {
              "type": "string"
            }
          },
          "metadata": {},
          "execution_count": 46
        }
      ]
    },
    {
      "cell_type": "code",
      "source": [
        "w1.strip()"
      ],
      "metadata": {
        "colab": {
          "base_uri": "https://localhost:8080/",
          "height": 35
        },
        "id": "ZAhdPbqVKr6e",
        "outputId": "cd233fa9-fd66-4f89-da29-02e5f8e8ddf7"
      },
      "execution_count": null,
      "outputs": [
        {
          "output_type": "execute_result",
          "data": {
            "text/plain": [
              "'Mary is friendly.'"
            ],
            "application/vnd.google.colaboratory.intrinsic+json": {
              "type": "string"
            }
          },
          "metadata": {},
          "execution_count": 47
        }
      ]
    },
    {
      "cell_type": "markdown",
      "source": [
        "### **data.split()**"
      ],
      "metadata": {
        "id": "JGPdtmu8MFgv"
      }
    },
    {
      "cell_type": "code",
      "source": [
        "w1 = \"Mary is friendly.\"\n",
        "w1.split()"
      ],
      "metadata": {
        "colab": {
          "base_uri": "https://localhost:8080/"
        },
        "id": "xbF1sJB9MIpw",
        "outputId": "b9175d5c-0146-44ee-a8dc-9e11d71cdbd9"
      },
      "execution_count": null,
      "outputs": [
        {
          "output_type": "execute_result",
          "data": {
            "text/plain": [
              "['Mary', 'is', 'friendly.']"
            ]
          },
          "metadata": {},
          "execution_count": 48
        }
      ]
    },
    {
      "cell_type": "code",
      "source": [
        "w2 = \"out-of-date\"\n",
        "w2.split('-')"
      ],
      "metadata": {
        "colab": {
          "base_uri": "https://localhost:8080/"
        },
        "id": "IudKgTjkMVQP",
        "outputId": "fffcbccf-0217-466c-bcc2-d35131bd60c7"
      },
      "execution_count": null,
      "outputs": [
        {
          "output_type": "execute_result",
          "data": {
            "text/plain": [
              "['out', 'of', 'date']"
            ]
          },
          "metadata": {},
          "execution_count": 49
        }
      ]
    },
    {
      "cell_type": "code",
      "source": [
        "w1 = \"Mary\"\n",
        "w2 = \"is\"\n",
        "w3 = \"friendly\""
      ],
      "metadata": {
        "id": "tGBOKKKtLvj7"
      },
      "execution_count": null,
      "outputs": []
    },
    {
      "cell_type": "code",
      "source": [
        "wordlist = [w1, w2, w3]\n",
        "wordlist"
      ],
      "metadata": {
        "colab": {
          "base_uri": "https://localhost:8080/"
        },
        "id": "c11AXGr0V_a4",
        "outputId": "f5a0b40c-c834-4888-c9fa-b243ac79243e"
      },
      "execution_count": null,
      "outputs": [
        {
          "output_type": "execute_result",
          "data": {
            "text/plain": [
              "['Mary', 'is', 'friendly']"
            ]
          },
          "metadata": {},
          "execution_count": 51
        }
      ]
    },
    {
      "cell_type": "markdown",
      "source": [
        "### **' '.join()**"
      ],
      "metadata": {
        "id": "Mb-LFWWPWn08"
      }
    },
    {
      "cell_type": "code",
      "source": [
        "' '.join(wordlist)"
      ],
      "metadata": {
        "colab": {
          "base_uri": "https://localhost:8080/",
          "height": 35
        },
        "id": "tZA7DsPPWGmA",
        "outputId": "90221f13-9bd2-40de-da6a-de32c074fb58"
      },
      "execution_count": null,
      "outputs": [
        {
          "output_type": "execute_result",
          "data": {
            "text/plain": [
              "'Mary is friendly'"
            ],
            "application/vnd.google.colaboratory.intrinsic+json": {
              "type": "string"
            }
          },
          "metadata": {},
          "execution_count": 52
        }
      ]
    },
    {
      "cell_type": "code",
      "source": [
        "'-'.join(wordlist)"
      ],
      "metadata": {
        "colab": {
          "base_uri": "https://localhost:8080/",
          "height": 35
        },
        "id": "EjLtWSL5WdYy",
        "outputId": "4ce99690-92b2-4ac7-b8c2-ee45569c21fe"
      },
      "execution_count": null,
      "outputs": [
        {
          "output_type": "execute_result",
          "data": {
            "text/plain": [
              "'Mary-is-friendly'"
            ],
            "application/vnd.google.colaboratory.intrinsic+json": {
              "type": "string"
            }
          },
          "metadata": {},
          "execution_count": 53
        }
      ]
    },
    {
      "cell_type": "markdown",
      "source": [
        "### **data.lower(), data.upper()**"
      ],
      "metadata": {
        "id": "PgCIMbbcL29X"
      }
    },
    {
      "cell_type": "code",
      "source": [
        "w1.lower()"
      ],
      "metadata": {
        "colab": {
          "base_uri": "https://localhost:8080/",
          "height": 35
        },
        "id": "JGqTVM22MuH0",
        "outputId": "118e59a5-ab1a-4271-98b6-5e38fd509488"
      },
      "execution_count": null,
      "outputs": [
        {
          "output_type": "execute_result",
          "data": {
            "text/plain": [
              "'mary'"
            ],
            "application/vnd.google.colaboratory.intrinsic+json": {
              "type": "string"
            }
          },
          "metadata": {},
          "execution_count": 54
        }
      ]
    },
    {
      "cell_type": "code",
      "source": [
        "w1.upper()"
      ],
      "metadata": {
        "colab": {
          "base_uri": "https://localhost:8080/",
          "height": 35
        },
        "id": "fP2lBss3Myhq",
        "outputId": "7b93479c-d868-4f9d-d120-456ed03398a4"
      },
      "execution_count": null,
      "outputs": [
        {
          "output_type": "execute_result",
          "data": {
            "text/plain": [
              "'MARY'"
            ],
            "application/vnd.google.colaboratory.intrinsic+json": {
              "type": "string"
            }
          },
          "metadata": {},
          "execution_count": 55
        }
      ]
    },
    {
      "cell_type": "markdown",
      "source": [
        "string index"
      ],
      "metadata": {
        "id": "yZJk2NtCM_oz"
      }
    },
    {
      "cell_type": "code",
      "source": [
        "len(w1) #number of string"
      ],
      "metadata": {
        "colab": {
          "base_uri": "https://localhost:8080/"
        },
        "id": "HmuiXLZSNGNa",
        "outputId": "a04863f4-d425-4cca-ae44-b0b8506c2910"
      },
      "execution_count": null,
      "outputs": [
        {
          "output_type": "execute_result",
          "data": {
            "text/plain": [
              "4"
            ]
          },
          "metadata": {},
          "execution_count": 56
        }
      ]
    },
    {
      "cell_type": "code",
      "source": [
        "w1[0] #1st string"
      ],
      "metadata": {
        "colab": {
          "base_uri": "https://localhost:8080/",
          "height": 35
        },
        "id": "xiyozLYxM6xk",
        "outputId": "b87c69f9-889e-4473-b142-33ef06d35790"
      },
      "execution_count": null,
      "outputs": [
        {
          "output_type": "execute_result",
          "data": {
            "text/plain": [
              "'M'"
            ],
            "application/vnd.google.colaboratory.intrinsic+json": {
              "type": "string"
            }
          },
          "metadata": {},
          "execution_count": 57
        }
      ]
    },
    {
      "cell_type": "code",
      "source": [
        "w1[-1]"
      ],
      "metadata": {
        "colab": {
          "base_uri": "https://localhost:8080/",
          "height": 35
        },
        "id": "AY_Ii7FhNeof",
        "outputId": "4cda0399-33ee-42f3-bf12-9f6aa11cd329"
      },
      "execution_count": null,
      "outputs": [
        {
          "output_type": "execute_result",
          "data": {
            "text/plain": [
              "'y'"
            ],
            "application/vnd.google.colaboratory.intrinsic+json": {
              "type": "string"
            }
          },
          "metadata": {},
          "execution_count": 58
        }
      ]
    },
    {
      "cell_type": "code",
      "source": [
        "w1[0:]"
      ],
      "metadata": {
        "id": "vhfF3iXwNijx"
      },
      "execution_count": null,
      "outputs": []
    },
    {
      "cell_type": "code",
      "source": [
        "w1[:]"
      ],
      "metadata": {
        "id": "pW4m0FoyNlf4"
      },
      "execution_count": null,
      "outputs": []
    },
    {
      "cell_type": "code",
      "source": [
        "w1[1:3]"
      ],
      "metadata": {
        "id": "tgp9ozDdNpwd"
      },
      "execution_count": null,
      "outputs": []
    },
    {
      "cell_type": "code",
      "source": [
        "w = \"mary\"\n",
        "w[0:-1]"
      ],
      "metadata": {
        "id": "0Su3TuHfPxwh"
      },
      "execution_count": null,
      "outputs": []
    },
    {
      "cell_type": "markdown",
      "source": [
        "☺️ DIY: Convert a statement to a yes-no question (e.g., Mary is smart. Tom is smiling. Jane is late.)"
      ],
      "metadata": {
        "id": "lGVkVdCLNMz0"
      }
    },
    {
      "cell_type": "code",
      "source": [
        "w1 = \"Mary\"; w2 = \"is\"; w3 = \"friendly.\""
      ],
      "metadata": {
        "id": "nz1VNUviNXaJ"
      },
      "execution_count": null,
      "outputs": []
    }
  ]
}